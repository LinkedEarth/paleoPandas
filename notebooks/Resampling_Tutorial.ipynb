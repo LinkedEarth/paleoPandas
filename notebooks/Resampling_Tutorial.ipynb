{
 "cells": [
  {
   "cell_type": "markdown",
   "id": "37cd3cb7-8822-48e6-9b61-1383f2fd3b24",
   "metadata": {
    "tags": []
   },
   "source": [
    "# Resampling Series in Pyleoclim\n",
    "\n",
    "Resampling Pyleoclim Series objects is analagous to the Pandas resample method. It provides the same functionality\n",
    "but with some additional resampling options useful for paleo work, such as specifying units like `Ga`. "
   ]
  },
  {
   "cell_type": "code",
   "execution_count": null,
   "id": "cdd5d14c-b102-4a10-a785-510e8780af0d",
   "metadata": {
    "tags": []
   },
   "outputs": [],
   "source": [
    "import pyleoclim as pyleo"
   ]
  },
  {
   "cell_type": "markdown",
   "id": "744126a6-c675-46dd-bdaa-0ed51566e922",
   "metadata": {},
   "source": [
    "First, let's load some data to work with. "
   ]
  },
  {
   "cell_type": "code",
   "execution_count": null,
   "id": "8375f66c-14e8-4567-beb2-d799ae54a735",
   "metadata": {
    "tags": []
   },
   "outputs": [],
   "source": [
    "ts = pyleo.utils.load_dataset('LR04')\n",
    "ts"
   ]
  },
  {
   "cell_type": "markdown",
   "id": "bd474fda-a5bf-47cf-8671-fee6b27c4e78",
   "metadata": {
    "tags": []
   },
   "source": [
    "From the metadata provided, we can see that the time span is specified in `ky BP`. However, the time values are not evenly spaced. Before we begin any analysis, we want to resample the data to ensure even spacing.\n",
    "\n",
    "Let's resample every 5 ka (5,000 years). "
   ]
  },
  {
   "cell_type": "code",
   "execution_count": null,
   "id": "7cf06b72-0ff3-4e89-af51-828d95329efa",
   "metadata": {
    "tags": []
   },
   "outputs": [],
   "source": [
    "ts.resample('5ka')"
   ]
  },
  {
   "cell_type": "markdown",
   "id": "436906b7-57fb-4680-aeac-26c60a9ee3b6",
   "metadata": {},
   "source": [
    "Now we have a `SeriesResampler` object. Just like in the [Pandas API](https://pandas.pydata.org/docs/reference/resampling.html), \n",
    "the resampler object is merely a stepping stone in the process, not an endpoint. We need to define **how** to aggregate the \n",
    "data between our timesteps. \n",
    "\n",
    "Because the Pyleoclim is a light wrapper around the Pandas resample API, you can review all the availiable aggregation options\n",
    "in the [Pandas docs](https://pandas.pydata.org/docs/reference/resampling.html).\n",
    "\n",
    "For now, we'll select `mean`. This will give us the average value of the data point within each sample period. \n"
   ]
  },
  {
   "cell_type": "code",
   "execution_count": null,
   "id": "433e72f7-162f-4e71-b57e-dd383602e19d",
   "metadata": {
    "tags": []
   },
   "outputs": [],
   "source": [
    "ts5k = ts.resample('5ka').mean()\n",
    "ts5k"
   ]
  },
  {
   "cell_type": "markdown",
   "id": "988d8a90-1106-4b30-a9e5-79ec59c3551d",
   "metadata": {
    "tags": []
   },
   "source": [
    "Great! We've successfully resampled to every 5,000 years, but notice it looks like we have some rounding errors.\n",
    "Actually, because we are using the specialized Paleo time units (ka), we are converting between float and \n",
    "datetime. \n",
    "\n",
    "If we inspect the index as a Pandas DatetimeIndex instead of floats, we see that the numbers are\n",
    "actually round dates. "
   ]
  },
  {
   "cell_type": "code",
   "execution_count": null,
   "id": "588ace54-7be6-46c9-b3ed-bcbd708d3d02",
   "metadata": {
    "tags": []
   },
   "outputs": [],
   "source": [
    "ts5k.datetime_index"
   ]
  },
  {
   "cell_type": "markdown",
   "id": "fda90841-d3a3-433e-ba70-96470fafb5a0",
   "metadata": {
    "tags": []
   },
   "source": [
    "Now let's plot both of these on top of one another to make a 1:1 comparison. "
   ]
  },
  {
   "cell_type": "code",
   "execution_count": null,
   "id": "920f4bbf-2aa0-48e9-8fd5-d45a16c0477b",
   "metadata": {
    "tags": []
   },
   "outputs": [],
   "source": [
    "fig, ax = ts.plot(invert_yaxis='True')\n",
    "ts5k.plot(ax=ax,color='C1')"
   ]
  },
  {
   "cell_type": "markdown",
   "id": "1ae02252-cc32-4945-b835-6c0224aee534",
   "metadata": {},
   "source": [
    "## Going further\n",
    "\n",
    "You may be wondering what other time units are available. "
   ]
  },
  {
   "cell_type": "code",
   "execution_count": null,
   "id": "f80b0b19-9ec1-430c-bb60-ffd034a4a0ab",
   "metadata": {
    "tags": []
   },
   "outputs": [],
   "source": [
    "from pyleoclim.utils.tsbase import MATCH_A, MATCH_KA, MATCH_MA, MATCH_GA"
   ]
  },
  {
   "cell_type": "code",
   "execution_count": null,
   "id": "747ea88a-76d3-4202-b62a-16f7d73312b7",
   "metadata": {
    "tags": []
   },
   "outputs": [],
   "source": [
    "print(f'Available time units are: \\n{list(MATCH_A)} \\n{list(MATCH_KA)} \\n{list(MATCH_MA)} \\n{list(MATCH_GA)}')"
   ]
  },
  {
   "cell_type": "markdown",
   "id": "76b95b44-2e5d-4fe9-810c-960c439be9aa",
   "metadata": {},
   "source": [
    "Suppose you have some NaN values in your results that you need to handle. You can interpolate across these using a variety of \n",
    "[interpolation methods](https://pandas.pydata.org/docs/reference/api/pandas.DataFrame.interpolate.html)"
   ]
  },
  {
   "cell_type": "code",
   "execution_count": null,
   "id": "2052132a-259d-4c51-898e-8a337f2285dd",
   "metadata": {
    "tags": []
   },
   "outputs": [],
   "source": [
    "ts_linear_fill = ts5k.pandas_method(lambda x: x.interpolate(method='linear'))\n",
    "ts_linear_fill"
   ]
  },
  {
   "cell_type": "markdown",
   "id": "982548a0-1f9a-4993-9144-7406f4afc239",
   "metadata": {},
   "source": [
    "## Interactive Plotting"
   ]
  },
  {
   "cell_type": "code",
   "execution_count": null,
   "id": "e8cdb52d-726d-4b0b-812a-35f509927700",
   "metadata": {
    "tags": []
   },
   "outputs": [],
   "source": [
    "import holoviews as hv\n",
    "hv.extension('bokeh')"
   ]
  },
  {
   "cell_type": "code",
   "execution_count": null,
   "id": "a7dd56df-ccbb-4a1f-849f-4b2df0af8b1b",
   "metadata": {
    "tags": []
   },
   "outputs": [],
   "source": [
    "(\n",
    "    hv.Curve(list(zip(ts.time, ts.value))).opts(invert_yaxis=True, line_width=3) * \\\n",
    "    hv.Curve(list(zip(ts5k.time, ts5k.value))).opts(invert_yaxis=True, line_width=1)\n",
    ").opts(width=1200, height=800)"
   ]
  },
  {
   "cell_type": "markdown",
   "id": "af928aed-220d-48bf-9e27-01a85b913fa5",
   "metadata": {},
   "source": [
    "From our plot we can make some quick observations. First, during the time period when the sampling was at a higher resolution,\n",
    "the two dataset match. Second, during the less frequent sampling period we have introduced some error. Our highs and lows have lost\n",
    "some accuracy. \n",
    "\n",
    "Using this appproach we can get a brief visual indication of the accuracy of our resampling method and iterate on different \n",
    "methods as needed. "
   ]
  }
 ],
 "metadata": {
  "kernelspec": {
   "display_name": "Python 3 (ipykernel)",
   "language": "python",
   "name": "python3"
  },
  "language_info": {
   "codemirror_mode": {
    "name": "ipython",
    "version": 3
   },
   "file_extension": ".py",
   "mimetype": "text/x-python",
   "name": "python",
   "nbconvert_exporter": "python",
   "pygments_lexer": "ipython3",
   "version": "3.10.9"
  }
 },
 "nbformat": 4,
 "nbformat_minor": 5
}
