{
 "cells": [
  {
   "cell_type": "markdown",
   "id": "9ea53897-dbee-4dca-87a5-9bdcc34c98db",
   "metadata": {},
   "source": [
    "This notebook explores the remote database and using native pandas to represent time."
   ]
  },
  {
   "cell_type": "code",
   "execution_count": 1,
   "id": "1e7cb8fc-5c7d-4d43-99f0-e6d38f7abbd3",
   "metadata": {},
   "outputs": [],
   "source": [
    "import json\n",
    "import requests\n",
    "import pandas as pd\n",
    "import numpy as np\n",
    "import io\n",
    "\n",
    "from paleopandas.paleoarray import *"
   ]
  },
  {
   "cell_type": "markdown",
   "id": "4b555551-bb1a-498b-9a5b-a42dc2d97379",
   "metadata": {},
   "source": [
    "## Querying for retrograde data\n",
    "\n",
    "This query return information about age. Let's first use 'years BP' or 'BP' to look for data"
   ]
  },
  {
   "cell_type": "code",
   "execution_count": 2,
   "id": "7d2602dc-5c09-4b05-9ae9-9bc9acee8ff6",
   "metadata": {},
   "outputs": [
    {
     "name": "stderr",
     "output_type": "stream",
     "text": [
      "/var/folders/xj/p7h9764x7cx0by8547l04rrr0000gn/T/ipykernel_7380/2709622338.py:31: DeprecationWarning: string or file could not be read to its end due to unmatched data; this will raise a ValueError in the future.\n",
      "  df['val']=df['val'].apply(lambda row : np.fromstring(row.strip(\"[]\"), sep=','))\n"
     ]
    },
    {
     "data": {
      "text/html": [
       "<div>\n",
       "<style scoped>\n",
       "    .dataframe tbody tr th:only-of-type {\n",
       "        vertical-align: middle;\n",
       "    }\n",
       "\n",
       "    .dataframe tbody tr th {\n",
       "        vertical-align: top;\n",
       "    }\n",
       "\n",
       "    .dataframe thead th {\n",
       "        text-align: right;\n",
       "    }\n",
       "</style>\n",
       "<table border=\"1\" class=\"dataframe\">\n",
       "  <thead>\n",
       "    <tr style=\"text-align: right;\">\n",
       "      <th></th>\n",
       "      <th>val</th>\n",
       "      <th>timeval</th>\n",
       "      <th>varunits</th>\n",
       "      <th>timeunits</th>\n",
       "      <th>dsname</th>\n",
       "      <th>varname</th>\n",
       "      <th>timevarname</th>\n",
       "    </tr>\n",
       "  </thead>\n",
       "  <tbody>\n",
       "    <tr>\n",
       "      <th>0</th>\n",
       "      <td>[20.4, 20.4, 20.7, 20.6, 20.5, 20.2, 19.3, 19....</td>\n",
       "      <td>[0.0, 13.0, 26.0, 39.0, 52.0, 64.0, 77.0, 90.0...</td>\n",
       "      <td>degC</td>\n",
       "      <td>BP</td>\n",
       "      <td>NAm-DarkLake.Gajewski.1988</td>\n",
       "      <td>temperature</td>\n",
       "      <td>age</td>\n",
       "    </tr>\n",
       "    <tr>\n",
       "      <th>1</th>\n",
       "      <td>[18.4, 18.4, 19.1, 18.4, 18.9, 18.7, 18.6, 19....</td>\n",
       "      <td>[-10.0, 24.0, 58.0, 93.0, 127.0, 191.0, 248.0,...</td>\n",
       "      <td>degC</td>\n",
       "      <td>BP</td>\n",
       "      <td>NAm-ClearPond.Gajewski.1988</td>\n",
       "      <td>temperature</td>\n",
       "      <td>age</td>\n",
       "    </tr>\n",
       "    <tr>\n",
       "      <th>2</th>\n",
       "      <td>[]</td>\n",
       "      <td>[-44.0, -34.0, -13.0, 7.0, 18.0, 34.0, 45.0, 5...</td>\n",
       "      <td>NaN</td>\n",
       "      <td>BP</td>\n",
       "      <td>Eur-CentralandEasternPyrenees.Pla.2004</td>\n",
       "      <td>sampleID</td>\n",
       "      <td>age</td>\n",
       "    </tr>\n",
       "    <tr>\n",
       "      <th>3</th>\n",
       "      <td>[0.0, 0.09114, -0.19458, 0.07387, -0.42006, -0...</td>\n",
       "      <td>[-44.0, -34.0, -13.0, 7.0, 18.0, 34.0, 45.0, 5...</td>\n",
       "      <td>degC</td>\n",
       "      <td>BP</td>\n",
       "      <td>Eur-CentralandEasternPyrenees.Pla.2004</td>\n",
       "      <td>temperature</td>\n",
       "      <td>age</td>\n",
       "    </tr>\n",
       "    <tr>\n",
       "      <th>4</th>\n",
       "      <td>[0.13984, 0.15345, 0.16085, 0.13493, 0.14066, ...</td>\n",
       "      <td>[-44.0, -34.0, -13.0, 7.0, 18.0, 34.0, 45.0, 5...</td>\n",
       "      <td>degC</td>\n",
       "      <td>BP</td>\n",
       "      <td>Eur-CentralandEasternPyrenees.Pla.2004</td>\n",
       "      <td>uncertainty_temperature</td>\n",
       "      <td>age</td>\n",
       "    </tr>\n",
       "  </tbody>\n",
       "</table>\n",
       "</div>"
      ],
      "text/plain": [
       "                                                 val  \\\n",
       "0  [20.4, 20.4, 20.7, 20.6, 20.5, 20.2, 19.3, 19....   \n",
       "1  [18.4, 18.4, 19.1, 18.4, 18.9, 18.7, 18.6, 19....   \n",
       "2                                                 []   \n",
       "3  [0.0, 0.09114, -0.19458, 0.07387, -0.42006, -0...   \n",
       "4  [0.13984, 0.15345, 0.16085, 0.13493, 0.14066, ...   \n",
       "\n",
       "                                             timeval varunits timeunits  \\\n",
       "0  [0.0, 13.0, 26.0, 39.0, 52.0, 64.0, 77.0, 90.0...     degC        BP   \n",
       "1  [-10.0, 24.0, 58.0, 93.0, 127.0, 191.0, 248.0,...     degC        BP   \n",
       "2  [-44.0, -34.0, -13.0, 7.0, 18.0, 34.0, 45.0, 5...      NaN        BP   \n",
       "3  [-44.0, -34.0, -13.0, 7.0, 18.0, 34.0, 45.0, 5...     degC        BP   \n",
       "4  [-44.0, -34.0, -13.0, 7.0, 18.0, 34.0, 45.0, 5...     degC        BP   \n",
       "\n",
       "                                   dsname                  varname timevarname  \n",
       "0              NAm-DarkLake.Gajewski.1988              temperature         age  \n",
       "1             NAm-ClearPond.Gajewski.1988              temperature         age  \n",
       "2  Eur-CentralandEasternPyrenees.Pla.2004                 sampleID         age  \n",
       "3  Eur-CentralandEasternPyrenees.Pla.2004              temperature         age  \n",
       "4  Eur-CentralandEasternPyrenees.Pla.2004  uncertainty_temperature         age  "
      ]
     },
     "execution_count": 2,
     "metadata": {},
     "output_type": "execute_result"
    }
   ],
   "source": [
    "url = 'https://linkedearth.graphdb.mint.isi.edu/repositories/LiPDVerse'\n",
    "\n",
    "query = \"\"\"\n",
    "PREFIX le: <http://linked.earth/ontology#>\n",
    "select ?val ?timeval ?varunits ?timeunits ?dsname ?varname ?timevarname where { \n",
    "    ?ds le:name ?dsname .\n",
    "    ?ds le:includesPaleoData ?data .   \n",
    "    ?data le:foundInMeasurementTable ?table .\n",
    "    ?table le:includesVariable ?var .\n",
    "    ?var le:name ?varname .\n",
    "    FILTER (?varname != \"age\")\n",
    "    FILTER (?varname != \"year\")\n",
    "    ?var le:hasVariableID ?varID .\n",
    "    ?var le:hasValues ?val .\n",
    "        OPTIONAL{?var le:hasUnits ?varunits .}\n",
    "    ?table le:includesVariable ?timevar .\n",
    "    ?timevar le:name ?timevarname .\n",
    "        VALUES ?timevarname {\"age\"} .\n",
    "    ?timevar le:hasValues ?timeval .\n",
    "    ?timevar le:hasUnits ?timeunits .\n",
    "        VALUES ?timeunits {\"yr BP\" \"BP\"}\n",
    "}\n",
    "LIMIT 100\n",
    "\"\"\"\n",
    "response = requests.post(url, data = {'query': query})\n",
    "\n",
    "data = io.StringIO(response.text)\n",
    "df = pd.read_csv(data, sep=\",\")\n",
    "\n",
    "# Make list from the values string\n",
    "df['val']=df['val'].apply(lambda row : np.fromstring(row.strip(\"[]\"), sep=','))\n",
    "df['timeval']=df['timeval'].apply(lambda row : np.fromstring(row.strip(\"[]\"), sep=','))\n",
    "\n",
    "df.head()"
   ]
  },
  {
   "cell_type": "code",
   "execution_count": 7,
   "id": "e3fe66aa-2ffc-46ad-91bf-6c0cc05bccd1",
   "metadata": {},
   "outputs": [
    {
     "data": {
      "text/plain": [
       "1950-01-01    20.4\n",
       "1937-01-01    20.4\n",
       "1924-01-01    20.7\n",
       "1911-01-01    20.6\n",
       "1898-01-01    20.5\n",
       "1886-01-01    20.2\n",
       "1873-01-01    19.3\n",
       "1860-01-01    19.7\n",
       "1847-01-01    19.5\n",
       "1834-01-01    19.6\n",
       "1828-01-01    20.4\n",
       "1821-01-01    19.8\n",
       "1815-01-01    19.8\n",
       "1809-01-01    19.9\n",
       "1792-01-01    19.0\n",
       "1775-01-01    19.3\n",
       "1761-01-01    19.3\n",
       "1749-01-01    19.5\n",
       "1736-01-01    19.2\n",
       "1727-01-01    19.6\n",
       "1709-01-01    19.7\n",
       "1655-01-01    19.5\n",
       "1605-01-01    19.5\n",
       "1561-01-01    19.3\n",
       "1517-01-01    19.5\n",
       "1480-01-01    19.9\n",
       "1438-01-01    20.0\n",
       "1405-01-01    20.5\n",
       "1374-01-01    19.8\n",
       "1345-01-01    19.7\n",
       "1318-01-01    20.0\n",
       "1290-01-01    19.8\n",
       "1263-01-01    20.0\n",
       "1232-01-01    20.0\n",
       "1200-01-01    20.0\n",
       "1164-01-01    20.0\n",
       "1126-01-01    20.0\n",
       "1086-01-01    19.7\n",
       "1044-01-01    19.9\n",
       "Name: temperature, dtype: float64"
      ]
     },
     "execution_count": 7,
     "metadata": {},
     "output_type": "execute_result"
    }
   ],
   "source": [
    "idx = pd.Index(df['timeval'].iloc[0],dtype=PaleoDtype('yrs BP'))\n",
    "ser = pd.Series(df['val'].iloc[0], name=df['varname'].iloc[0], index=idx)\n",
    "\n",
    "ser"
   ]
  },
  {
   "cell_type": "markdown",
   "id": "88810c46-29dd-488f-9833-bb96fa0756ce",
   "metadata": {},
   "source": [
    "**Question**: Should we use floats here rather than dates as display?"
   ]
  },
  {
   "cell_type": "code",
   "execution_count": 8,
   "id": "44ee3c9f-4561-4bc0-bd73-fea2ee2680fb",
   "metadata": {},
   "outputs": [
    {
     "ename": "AssertionError",
     "evalue": "(<class 'paleopandas.paleoarray.PaleoDtype'>, <class 'property'>)",
     "output_type": "error",
     "traceback": [
      "\u001b[0;31m---------------------------------------------------------------------------\u001b[0m",
      "\u001b[0;31mAssertionError\u001b[0m                            Traceback (most recent call last)",
      "Cell \u001b[0;32mIn[8], line 1\u001b[0m\n\u001b[0;32m----> 1\u001b[0m \u001b[43mser\u001b[49m\u001b[38;5;241;43m.\u001b[39;49m\u001b[43mplot\u001b[49m\u001b[43m(\u001b[49m\u001b[43m)\u001b[49m\n",
      "File \u001b[0;32m~/opt/anaconda3/envs/paleopandas/lib/python3.10/site-packages/pandas/plotting/_core.py:985\u001b[0m, in \u001b[0;36mPlotAccessor.__call__\u001b[0;34m(self, *args, **kwargs)\u001b[0m\n\u001b[1;32m    982\u001b[0m             label_name \u001b[38;5;241m=\u001b[39m label_kw \u001b[38;5;129;01mor\u001b[39;00m data\u001b[38;5;241m.\u001b[39mcolumns\n\u001b[1;32m    983\u001b[0m             data\u001b[38;5;241m.\u001b[39mcolumns \u001b[38;5;241m=\u001b[39m label_name\n\u001b[0;32m--> 985\u001b[0m \u001b[38;5;28;01mreturn\u001b[39;00m \u001b[43mplot_backend\u001b[49m\u001b[38;5;241;43m.\u001b[39;49m\u001b[43mplot\u001b[49m\u001b[43m(\u001b[49m\u001b[43mdata\u001b[49m\u001b[43m,\u001b[49m\u001b[43m \u001b[49m\u001b[43mkind\u001b[49m\u001b[38;5;241;43m=\u001b[39;49m\u001b[43mkind\u001b[49m\u001b[43m,\u001b[49m\u001b[43m \u001b[49m\u001b[38;5;241;43m*\u001b[39;49m\u001b[38;5;241;43m*\u001b[39;49m\u001b[43mkwargs\u001b[49m\u001b[43m)\u001b[49m\n",
      "File \u001b[0;32m~/opt/anaconda3/envs/paleopandas/lib/python3.10/site-packages/pandas/plotting/_matplotlib/__init__.py:71\u001b[0m, in \u001b[0;36mplot\u001b[0;34m(data, kind, **kwargs)\u001b[0m\n\u001b[1;32m     69\u001b[0m         kwargs[\u001b[38;5;124m\"\u001b[39m\u001b[38;5;124max\u001b[39m\u001b[38;5;124m\"\u001b[39m] \u001b[38;5;241m=\u001b[39m \u001b[38;5;28mgetattr\u001b[39m(ax, \u001b[38;5;124m\"\u001b[39m\u001b[38;5;124mleft_ax\u001b[39m\u001b[38;5;124m\"\u001b[39m, ax)\n\u001b[1;32m     70\u001b[0m plot_obj \u001b[38;5;241m=\u001b[39m PLOT_CLASSES[kind](data, \u001b[38;5;241m*\u001b[39m\u001b[38;5;241m*\u001b[39mkwargs)\n\u001b[0;32m---> 71\u001b[0m \u001b[43mplot_obj\u001b[49m\u001b[38;5;241;43m.\u001b[39;49m\u001b[43mgenerate\u001b[49m\u001b[43m(\u001b[49m\u001b[43m)\u001b[49m\n\u001b[1;32m     72\u001b[0m plot_obj\u001b[38;5;241m.\u001b[39mdraw()\n\u001b[1;32m     73\u001b[0m \u001b[38;5;28;01mreturn\u001b[39;00m plot_obj\u001b[38;5;241m.\u001b[39mresult\n",
      "File \u001b[0;32m~/opt/anaconda3/envs/paleopandas/lib/python3.10/site-packages/pandas/plotting/_matplotlib/core.py:447\u001b[0m, in \u001b[0;36mMPLPlot.generate\u001b[0;34m(self)\u001b[0m\n\u001b[1;32m    445\u001b[0m \u001b[38;5;28;01mdef\u001b[39;00m \u001b[38;5;21mgenerate\u001b[39m(\u001b[38;5;28mself\u001b[39m) \u001b[38;5;241m-\u001b[39m\u001b[38;5;241m>\u001b[39m \u001b[38;5;28;01mNone\u001b[39;00m:\n\u001b[1;32m    446\u001b[0m     \u001b[38;5;28mself\u001b[39m\u001b[38;5;241m.\u001b[39m_args_adjust()\n\u001b[0;32m--> 447\u001b[0m     \u001b[38;5;28;43mself\u001b[39;49m\u001b[38;5;241;43m.\u001b[39;49m\u001b[43m_compute_plot_data\u001b[49m\u001b[43m(\u001b[49m\u001b[43m)\u001b[49m\n\u001b[1;32m    448\u001b[0m     \u001b[38;5;28mself\u001b[39m\u001b[38;5;241m.\u001b[39m_setup_subplots()\n\u001b[1;32m    449\u001b[0m     \u001b[38;5;28mself\u001b[39m\u001b[38;5;241m.\u001b[39m_make_plot()\n",
      "File \u001b[0;32m~/opt/anaconda3/envs/paleopandas/lib/python3.10/site-packages/pandas/plotting/_matplotlib/core.py:623\u001b[0m, in \u001b[0;36mMPLPlot._compute_plot_data\u001b[0;34m(self)\u001b[0m\n\u001b[1;32m    620\u001b[0m \u001b[38;5;28;01mif\u001b[39;00m \u001b[38;5;28mself\u001b[39m\u001b[38;5;241m.\u001b[39m_kind \u001b[38;5;241m==\u001b[39m \u001b[38;5;124m\"\u001b[39m\u001b[38;5;124mscatter\u001b[39m\u001b[38;5;124m\"\u001b[39m:\n\u001b[1;32m    621\u001b[0m     include_type\u001b[38;5;241m.\u001b[39mextend([\u001b[38;5;124m\"\u001b[39m\u001b[38;5;124mobject\u001b[39m\u001b[38;5;124m\"\u001b[39m, \u001b[38;5;124m\"\u001b[39m\u001b[38;5;124mcategory\u001b[39m\u001b[38;5;124m\"\u001b[39m])\n\u001b[0;32m--> 623\u001b[0m numeric_data \u001b[38;5;241m=\u001b[39m \u001b[43mdata\u001b[49m\u001b[38;5;241;43m.\u001b[39;49m\u001b[43mselect_dtypes\u001b[49m\u001b[43m(\u001b[49m\u001b[43minclude\u001b[49m\u001b[38;5;241;43m=\u001b[39;49m\u001b[43minclude_type\u001b[49m\u001b[43m,\u001b[49m\u001b[43m \u001b[49m\u001b[43mexclude\u001b[49m\u001b[38;5;241;43m=\u001b[39;49m\u001b[43mexclude_type\u001b[49m\u001b[43m)\u001b[49m\n\u001b[1;32m    625\u001b[0m \u001b[38;5;28;01mtry\u001b[39;00m:\n\u001b[1;32m    626\u001b[0m     is_empty \u001b[38;5;241m=\u001b[39m numeric_data\u001b[38;5;241m.\u001b[39mcolumns\u001b[38;5;241m.\u001b[39mempty\n",
      "File \u001b[0;32m~/opt/anaconda3/envs/paleopandas/lib/python3.10/site-packages/pandas/core/frame.py:4648\u001b[0m, in \u001b[0;36mDataFrame.select_dtypes\u001b[0;34m(self, include, exclude)\u001b[0m\n\u001b[1;32m   4645\u001b[0m             converted_dtypes\u001b[38;5;241m.\u001b[39mappend(infer_dtype_from_object(dtype))\n\u001b[1;32m   4646\u001b[0m     \u001b[38;5;28;01mreturn\u001b[39;00m \u001b[38;5;28mfrozenset\u001b[39m(converted_dtypes)\n\u001b[0;32m-> 4648\u001b[0m include \u001b[38;5;241m=\u001b[39m \u001b[43mcheck_int_infer_dtype\u001b[49m\u001b[43m(\u001b[49m\u001b[43minclude\u001b[49m\u001b[43m)\u001b[49m\n\u001b[1;32m   4649\u001b[0m exclude \u001b[38;5;241m=\u001b[39m check_int_infer_dtype(exclude)\n\u001b[1;32m   4651\u001b[0m \u001b[38;5;28;01mfor\u001b[39;00m dtypes \u001b[38;5;129;01min\u001b[39;00m (include, exclude):\n",
      "File \u001b[0;32m~/opt/anaconda3/envs/paleopandas/lib/python3.10/site-packages/pandas/core/frame.py:4645\u001b[0m, in \u001b[0;36mDataFrame.select_dtypes.<locals>.check_int_infer_dtype\u001b[0;34m(dtypes)\u001b[0m\n\u001b[1;32m   4643\u001b[0m         converted_dtypes\u001b[38;5;241m.\u001b[39mextend([np\u001b[38;5;241m.\u001b[39mfloat64, np\u001b[38;5;241m.\u001b[39mfloat32])\n\u001b[1;32m   4644\u001b[0m     \u001b[38;5;28;01melse\u001b[39;00m:\n\u001b[0;32m-> 4645\u001b[0m         converted_dtypes\u001b[38;5;241m.\u001b[39mappend(\u001b[43minfer_dtype_from_object\u001b[49m\u001b[43m(\u001b[49m\u001b[43mdtype\u001b[49m\u001b[43m)\u001b[49m)\n\u001b[1;32m   4646\u001b[0m \u001b[38;5;28;01mreturn\u001b[39;00m \u001b[38;5;28mfrozenset\u001b[39m(converted_dtypes)\n",
      "File \u001b[0;32m~/opt/anaconda3/envs/paleopandas/lib/python3.10/site-packages/pandas/core/dtypes/common.py:1563\u001b[0m, in \u001b[0;36minfer_dtype_from_object\u001b[0;34m(dtype)\u001b[0m\n\u001b[1;32m   1560\u001b[0m     \u001b[38;5;28;01mreturn\u001b[39;00m dtype\u001b[38;5;241m.\u001b[39mtype\n\u001b[1;32m   1562\u001b[0m \u001b[38;5;28;01mtry\u001b[39;00m:\n\u001b[0;32m-> 1563\u001b[0m     dtype \u001b[38;5;241m=\u001b[39m \u001b[43mpandas_dtype\u001b[49m\u001b[43m(\u001b[49m\u001b[43mdtype\u001b[49m\u001b[43m)\u001b[49m\n\u001b[1;32m   1564\u001b[0m \u001b[38;5;28;01mexcept\u001b[39;00m \u001b[38;5;167;01mTypeError\u001b[39;00m:\n\u001b[1;32m   1565\u001b[0m     \u001b[38;5;28;01mpass\u001b[39;00m\n",
      "File \u001b[0;32m~/opt/anaconda3/envs/paleopandas/lib/python3.10/site-packages/pandas/core/dtypes/common.py:1668\u001b[0m, in \u001b[0;36mpandas_dtype\u001b[0;34m(dtype)\u001b[0m\n\u001b[1;32m   1665\u001b[0m     \u001b[38;5;28;01mreturn\u001b[39;00m dtype\n\u001b[1;32m   1667\u001b[0m \u001b[38;5;66;03m# registered extension types\u001b[39;00m\n\u001b[0;32m-> 1668\u001b[0m result \u001b[38;5;241m=\u001b[39m \u001b[43mregistry\u001b[49m\u001b[38;5;241;43m.\u001b[39;49m\u001b[43mfind\u001b[49m\u001b[43m(\u001b[49m\u001b[43mdtype\u001b[49m\u001b[43m)\u001b[49m\n\u001b[1;32m   1669\u001b[0m \u001b[38;5;28;01mif\u001b[39;00m result \u001b[38;5;129;01mis\u001b[39;00m \u001b[38;5;129;01mnot\u001b[39;00m \u001b[38;5;28;01mNone\u001b[39;00m:\n\u001b[1;32m   1670\u001b[0m     \u001b[38;5;28;01mreturn\u001b[39;00m result\n",
      "File \u001b[0;32m~/opt/anaconda3/envs/paleopandas/lib/python3.10/site-packages/pandas/core/dtypes/base.py:521\u001b[0m, in \u001b[0;36mRegistry.find\u001b[0;34m(self, dtype)\u001b[0m\n\u001b[1;32m    519\u001b[0m \u001b[38;5;28;01mfor\u001b[39;00m dtype_type \u001b[38;5;129;01min\u001b[39;00m \u001b[38;5;28mself\u001b[39m\u001b[38;5;241m.\u001b[39mdtypes:\n\u001b[1;32m    520\u001b[0m     \u001b[38;5;28;01mtry\u001b[39;00m:\n\u001b[0;32m--> 521\u001b[0m         \u001b[38;5;28;01mreturn\u001b[39;00m \u001b[43mdtype_type\u001b[49m\u001b[38;5;241;43m.\u001b[39;49m\u001b[43mconstruct_from_string\u001b[49m\u001b[43m(\u001b[49m\u001b[43mdtype\u001b[49m\u001b[43m)\u001b[49m\n\u001b[1;32m    522\u001b[0m     \u001b[38;5;28;01mexcept\u001b[39;00m \u001b[38;5;167;01mTypeError\u001b[39;00m:\n\u001b[1;32m    523\u001b[0m         \u001b[38;5;28;01mpass\u001b[39;00m\n",
      "File \u001b[0;32m~/opt/anaconda3/envs/paleopandas/lib/python3.10/site-packages/pandas/core/dtypes/base.py:281\u001b[0m, in \u001b[0;36mExtensionDtype.construct_from_string\u001b[0;34m(cls, string)\u001b[0m\n\u001b[1;32m    276\u001b[0m     \u001b[38;5;28;01mraise\u001b[39;00m \u001b[38;5;167;01mTypeError\u001b[39;00m(\n\u001b[1;32m    277\u001b[0m         \u001b[38;5;124mf\u001b[39m\u001b[38;5;124m\"\u001b[39m\u001b[38;5;124m'\u001b[39m\u001b[38;5;124mconstruct_from_string\u001b[39m\u001b[38;5;124m'\u001b[39m\u001b[38;5;124m expects a string, got \u001b[39m\u001b[38;5;132;01m{\u001b[39;00m\u001b[38;5;28mtype\u001b[39m(string)\u001b[38;5;132;01m}\u001b[39;00m\u001b[38;5;124m\"\u001b[39m\n\u001b[1;32m    278\u001b[0m     )\n\u001b[1;32m    279\u001b[0m \u001b[38;5;66;03m# error: Non-overlapping equality check (left operand type: \"str\", right\u001b[39;00m\n\u001b[1;32m    280\u001b[0m \u001b[38;5;66;03m#  operand type: \"Callable[[ExtensionDtype], str]\")  [comparison-overlap]\u001b[39;00m\n\u001b[0;32m--> 281\u001b[0m \u001b[38;5;28;01massert\u001b[39;00m \u001b[38;5;28misinstance\u001b[39m(\u001b[38;5;28mcls\u001b[39m\u001b[38;5;241m.\u001b[39mname, \u001b[38;5;28mstr\u001b[39m), (\u001b[38;5;28mcls\u001b[39m, \u001b[38;5;28mtype\u001b[39m(\u001b[38;5;28mcls\u001b[39m\u001b[38;5;241m.\u001b[39mname))\n\u001b[1;32m    282\u001b[0m \u001b[38;5;28;01mif\u001b[39;00m string \u001b[38;5;241m!=\u001b[39m \u001b[38;5;28mcls\u001b[39m\u001b[38;5;241m.\u001b[39mname:\n\u001b[1;32m    283\u001b[0m     \u001b[38;5;28;01mraise\u001b[39;00m \u001b[38;5;167;01mTypeError\u001b[39;00m(\u001b[38;5;124mf\u001b[39m\u001b[38;5;124m\"\u001b[39m\u001b[38;5;124mCannot construct a \u001b[39m\u001b[38;5;124m'\u001b[39m\u001b[38;5;132;01m{\u001b[39;00m\u001b[38;5;28mcls\u001b[39m\u001b[38;5;241m.\u001b[39m\u001b[38;5;18m__name__\u001b[39m\u001b[38;5;132;01m}\u001b[39;00m\u001b[38;5;124m'\u001b[39m\u001b[38;5;124m from \u001b[39m\u001b[38;5;124m'\u001b[39m\u001b[38;5;132;01m{\u001b[39;00mstring\u001b[38;5;132;01m}\u001b[39;00m\u001b[38;5;124m'\u001b[39m\u001b[38;5;124m\"\u001b[39m)\n",
      "\u001b[0;31mAssertionError\u001b[0m: (<class 'paleopandas.paleoarray.PaleoDtype'>, <class 'property'>)"
     ]
    }
   ],
   "source": [
    "ser.plot()"
   ]
  },
  {
   "cell_type": "code",
   "execution_count": 13,
   "id": "97fafc20-30d9-4fbf-b9b9-ab5f28d2bd65",
   "metadata": {},
   "outputs": [
    {
     "ename": "AttributeError",
     "evalue": "Can only use .dt accessor with datetimelike values",
     "output_type": "error",
     "traceback": [
      "\u001b[0;31m---------------------------------------------------------------------------\u001b[0m",
      "\u001b[0;31mAttributeError\u001b[0m                            Traceback (most recent call last)",
      "Cell \u001b[0;32mIn[13], line 1\u001b[0m\n\u001b[0;32m----> 1\u001b[0m \u001b[43mser\u001b[49m\u001b[38;5;241;43m.\u001b[39;49m\u001b[43mdt\u001b[49m\u001b[38;5;241m.\u001b[39myear\n",
      "File \u001b[0;32m~/opt/anaconda3/envs/paleopandas/lib/python3.10/site-packages/pandas/core/generic.py:5826\u001b[0m, in \u001b[0;36mNDFrame.__getattr__\u001b[0;34m(self, name)\u001b[0m\n\u001b[1;32m   5819\u001b[0m \u001b[38;5;28;01mif\u001b[39;00m (\n\u001b[1;32m   5820\u001b[0m     name \u001b[38;5;129;01mnot\u001b[39;00m \u001b[38;5;129;01min\u001b[39;00m \u001b[38;5;28mself\u001b[39m\u001b[38;5;241m.\u001b[39m_internal_names_set\n\u001b[1;32m   5821\u001b[0m     \u001b[38;5;129;01mand\u001b[39;00m name \u001b[38;5;129;01mnot\u001b[39;00m \u001b[38;5;129;01min\u001b[39;00m \u001b[38;5;28mself\u001b[39m\u001b[38;5;241m.\u001b[39m_metadata\n\u001b[1;32m   5822\u001b[0m     \u001b[38;5;129;01mand\u001b[39;00m name \u001b[38;5;129;01mnot\u001b[39;00m \u001b[38;5;129;01min\u001b[39;00m \u001b[38;5;28mself\u001b[39m\u001b[38;5;241m.\u001b[39m_accessors\n\u001b[1;32m   5823\u001b[0m     \u001b[38;5;129;01mand\u001b[39;00m \u001b[38;5;28mself\u001b[39m\u001b[38;5;241m.\u001b[39m_info_axis\u001b[38;5;241m.\u001b[39m_can_hold_identifiers_and_holds_name(name)\n\u001b[1;32m   5824\u001b[0m ):\n\u001b[1;32m   5825\u001b[0m     \u001b[38;5;28;01mreturn\u001b[39;00m \u001b[38;5;28mself\u001b[39m[name]\n\u001b[0;32m-> 5826\u001b[0m \u001b[38;5;28;01mreturn\u001b[39;00m \u001b[38;5;28;43mobject\u001b[39;49m\u001b[38;5;241;43m.\u001b[39;49m\u001b[38;5;21;43m__getattribute__\u001b[39;49m\u001b[43m(\u001b[49m\u001b[38;5;28;43mself\u001b[39;49m\u001b[43m,\u001b[49m\u001b[43m \u001b[49m\u001b[43mname\u001b[49m\u001b[43m)\u001b[49m\n",
      "File \u001b[0;32m~/opt/anaconda3/envs/paleopandas/lib/python3.10/site-packages/pandas/core/accessor.py:182\u001b[0m, in \u001b[0;36mCachedAccessor.__get__\u001b[0;34m(self, obj, cls)\u001b[0m\n\u001b[1;32m    179\u001b[0m \u001b[38;5;28;01mif\u001b[39;00m obj \u001b[38;5;129;01mis\u001b[39;00m \u001b[38;5;28;01mNone\u001b[39;00m:\n\u001b[1;32m    180\u001b[0m     \u001b[38;5;66;03m# we're accessing the attribute of the class, i.e., Dataset.geo\u001b[39;00m\n\u001b[1;32m    181\u001b[0m     \u001b[38;5;28;01mreturn\u001b[39;00m \u001b[38;5;28mself\u001b[39m\u001b[38;5;241m.\u001b[39m_accessor\n\u001b[0;32m--> 182\u001b[0m accessor_obj \u001b[38;5;241m=\u001b[39m \u001b[38;5;28;43mself\u001b[39;49m\u001b[38;5;241;43m.\u001b[39;49m\u001b[43m_accessor\u001b[49m\u001b[43m(\u001b[49m\u001b[43mobj\u001b[49m\u001b[43m)\u001b[49m\n\u001b[1;32m    183\u001b[0m \u001b[38;5;66;03m# Replace the property with the accessor object. Inspired by:\u001b[39;00m\n\u001b[1;32m    184\u001b[0m \u001b[38;5;66;03m# https://www.pydanny.com/cached-property.html\u001b[39;00m\n\u001b[1;32m    185\u001b[0m \u001b[38;5;66;03m# We need to use object.__setattr__ because we overwrite __setattr__ on\u001b[39;00m\n\u001b[1;32m    186\u001b[0m \u001b[38;5;66;03m# NDFrame\u001b[39;00m\n\u001b[1;32m    187\u001b[0m \u001b[38;5;28mobject\u001b[39m\u001b[38;5;241m.\u001b[39m\u001b[38;5;21m__setattr__\u001b[39m(obj, \u001b[38;5;28mself\u001b[39m\u001b[38;5;241m.\u001b[39m_name, accessor_obj)\n",
      "File \u001b[0;32m~/opt/anaconda3/envs/paleopandas/lib/python3.10/site-packages/pandas/core/indexes/accessors.py:484\u001b[0m, in \u001b[0;36mCombinedDatetimelikeProperties.__new__\u001b[0;34m(cls, data)\u001b[0m\n\u001b[1;32m    481\u001b[0m \u001b[38;5;28;01melif\u001b[39;00m is_period_dtype(data\u001b[38;5;241m.\u001b[39mdtype):\n\u001b[1;32m    482\u001b[0m     \u001b[38;5;28;01mreturn\u001b[39;00m PeriodProperties(data, orig)\n\u001b[0;32m--> 484\u001b[0m \u001b[38;5;28;01mraise\u001b[39;00m \u001b[38;5;167;01mAttributeError\u001b[39;00m(\u001b[38;5;124m\"\u001b[39m\u001b[38;5;124mCan only use .dt accessor with datetimelike values\u001b[39m\u001b[38;5;124m\"\u001b[39m)\n",
      "\u001b[0;31mAttributeError\u001b[0m: Can only use .dt accessor with datetimelike values"
     ]
    }
   ],
   "source": [
    "ser.dt.year"
   ]
  },
  {
   "cell_type": "code",
   "execution_count": 15,
   "id": "73bf3d40-aa38-445b-a60b-f1af8a34791e",
   "metadata": {},
   "outputs": [
    {
     "name": "stdout",
     "output_type": "stream",
     "text": [
      "19.833333333333336\n",
      "20.7\n"
     ]
    }
   ],
   "source": [
    "print(ser.mean())\n",
    "print(ser.max())"
   ]
  },
  {
   "cell_type": "markdown",
   "id": "89e60210-fb48-40cf-9f21-868c108959da",
   "metadata": {},
   "source": [
    "## Let's try for a kyr Series\n",
    "\n",
    "Let's open the ODP846 data which is in kyr for a trial\n"
   ]
  },
  {
   "cell_type": "code",
   "execution_count": 9,
   "id": "6692e743-2896-4ef9-bb8d-5c457304277f",
   "metadata": {},
   "outputs": [
    {
     "data": {
      "text/html": [
       "<div>\n",
       "<style scoped>\n",
       "    .dataframe tbody tr th:only-of-type {\n",
       "        vertical-align: middle;\n",
       "    }\n",
       "\n",
       "    .dataframe tbody tr th {\n",
       "        vertical-align: top;\n",
       "    }\n",
       "\n",
       "    .dataframe thead th {\n",
       "        text-align: right;\n",
       "    }\n",
       "</style>\n",
       "<table border=\"1\" class=\"dataframe\">\n",
       "  <thead>\n",
       "    <tr style=\"text-align: right;\">\n",
       "      <th></th>\n",
       "      <th>Age</th>\n",
       "      <th>d18O</th>\n",
       "    </tr>\n",
       "  </thead>\n",
       "  <tbody>\n",
       "    <tr>\n",
       "      <th>0</th>\n",
       "      <td>3.645</td>\n",
       "      <td>3.380</td>\n",
       "    </tr>\n",
       "    <tr>\n",
       "      <th>1</th>\n",
       "      <td>7.990</td>\n",
       "      <td>3.460</td>\n",
       "    </tr>\n",
       "    <tr>\n",
       "      <th>2</th>\n",
       "      <td>11.180</td>\n",
       "      <td>3.765</td>\n",
       "    </tr>\n",
       "    <tr>\n",
       "      <th>3</th>\n",
       "      <td>13.803</td>\n",
       "      <td>4.140</td>\n",
       "    </tr>\n",
       "    <tr>\n",
       "      <th>4</th>\n",
       "      <td>15.886</td>\n",
       "      <td>4.470</td>\n",
       "    </tr>\n",
       "  </tbody>\n",
       "</table>\n",
       "</div>"
      ],
      "text/plain": [
       "      Age   d18O\n",
       "0   3.645  3.380\n",
       "1   7.990  3.460\n",
       "2  11.180  3.765\n",
       "3  13.803  4.140\n",
       "4  15.886  4.470"
      ]
     },
     "execution_count": 9,
     "metadata": {},
     "output_type": "execute_result"
    }
   ],
   "source": [
    "odp = pd.read_csv('../data/ODP846.csv')\n",
    "odp.head()"
   ]
  },
  {
   "cell_type": "markdown",
   "id": "35d00084-e92e-4f43-8aee-a871cbf74301",
   "metadata": {},
   "source": [
    "Create a pandas Series object with age as an index:"
   ]
  },
  {
   "cell_type": "code",
   "execution_count": 11,
   "id": "a2d1a672-3fde-4216-ba29-d1310dbc2411",
   "metadata": {},
   "outputs": [
    {
     "data": {
      "text/plain": [
       "Age\n",
       "-1695-01-01 00:00:00      NaN\n",
       "-6040-01-01 00:00:00      NaN\n",
       "-9230-01-01 00:00:00      NaN\n",
       "-11852-01-01 05:59:59     NaN\n",
       "-13936-01-01 00:00:00     NaN\n",
       "                           ..\n",
       "-5012332-01-01 00:00:00   NaN\n",
       "-5015612-01-01 00:00:00   NaN\n",
       "-5019417-01-01 05:59:59   NaN\n",
       "-5023475-01-01 00:00:00   NaN\n",
       "-5027777-01-01 00:00:00   NaN\n",
       "Name: d18O, Length: 2000, dtype: float64"
      ]
     },
     "execution_count": 11,
     "metadata": {},
     "output_type": "execute_result"
    }
   ],
   "source": [
    "idx = pd.Index(odp['Age'],dtype=PaleoDtype('\"yrs KA'))\n",
    "ts = pd.Series(odp['d18O'], name='d18O', index=idx)\n",
    "\n",
    "ts"
   ]
  },
  {
   "cell_type": "code",
   "execution_count": 12,
   "id": "5f3b5479-ac96-44ba-8c27-3240d0ea9f37",
   "metadata": {},
   "outputs": [
    {
     "data": {
      "text/plain": [
       "0       3.380\n",
       "1       3.460\n",
       "2       3.765\n",
       "3       4.140\n",
       "4       4.470\n",
       "        ...  \n",
       "1995    2.971\n",
       "1996    2.981\n",
       "1997    3.141\n",
       "1998    2.901\n",
       "1999    2.931\n",
       "Name: d18O, Length: 2000, dtype: float64"
      ]
     },
     "execution_count": 12,
     "metadata": {},
     "output_type": "execute_result"
    }
   ],
   "source": [
    "odp['d18O']"
   ]
  },
  {
   "cell_type": "markdown",
   "id": "71adf61f-eada-404b-bfa4-a6623c2ae8d4",
   "metadata": {},
   "source": [
    "**Bug**: Not sure why d18O is NaN in ts.."
   ]
  },
  {
   "cell_type": "markdown",
   "id": "7c78718f-8f2f-44ab-904d-ccd1dfb8ce38",
   "metadata": {},
   "source": []
  }
 ],
 "metadata": {
  "kernelspec": {
   "display_name": "pyleo310",
   "language": "python",
   "name": "pyleo310"
  },
  "language_info": {
   "codemirror_mode": {
    "name": "ipython",
    "version": 3
   },
   "file_extension": ".py",
   "mimetype": "text/x-python",
   "name": "python",
   "nbconvert_exporter": "python",
   "pygments_lexer": "ipython3",
   "version": "3.10.8"
  }
 },
 "nbformat": 4,
 "nbformat_minor": 5
}
