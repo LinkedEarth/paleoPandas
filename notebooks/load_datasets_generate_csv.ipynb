{
 "cells": [
  {
   "cell_type": "code",
   "execution_count": 1,
   "id": "22921b28",
   "metadata": {},
   "outputs": [],
   "source": [
    "import pandas as pd\n",
    "import pyleoclim as pyleo\n",
    "\n",
    "data = pd.read_csv('../data/LR04.csv',skiprows=4)\n",
    "time = data.iloc[:,1]\n",
    "value = data.iloc[:,2]\n",
    "ts = pyleo.Series(time=time,value=value,time_name='Year C.E', value_name='SOI', label='SOI')\n"
   ]
  },
  {
   "cell_type": "code",
   "execution_count": null,
   "id": "3ba57cb5",
   "metadata": {},
   "outputs": [],
   "source": []
  }
 ],
 "metadata": {
  "kernelspec": {
   "display_name": "pyleo310",
   "language": "python",
   "name": "pyleo310"
  },
  "language_info": {
   "codemirror_mode": {
    "name": "ipython",
    "version": 3
   },
   "file_extension": ".py",
   "mimetype": "text/x-python",
   "name": "python",
   "nbconvert_exporter": "python",
   "pygments_lexer": "ipython3",
   "version": "3.10.8"
  }
 },
 "nbformat": 4,
 "nbformat_minor": 5
}
