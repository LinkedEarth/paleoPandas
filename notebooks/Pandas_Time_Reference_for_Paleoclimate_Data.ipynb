{
 "cells": [
  {
   "cell_type": "markdown",
   "metadata": {},
   "source": [
    "<img src='https://github.com/LinkedEarth/Logos/raw/master/PYLEOCLIM_logo_HORZ-01.png' width=\"800\">\n",
    "\n",
    "This notebook investigates using Pandas native time (numpy datetime) for Pyleoclim"
   ]
  },
  {
   "cell_type": "code",
   "execution_count": 1,
   "metadata": {},
   "outputs": [],
   "source": [
    "import pandas as pd\n",
    "import numpy as np\n",
    "from typing import OrderedDict"
   ]
  },
  {
   "cell_type": "markdown",
   "metadata": {},
   "source": [
    "Import the data including its non-standard time axis into a dataframe for exploration."
   ]
  },
  {
   "cell_type": "code",
   "execution_count": 3,
   "metadata": {},
   "outputs": [
    {
     "data": {
      "text/html": [
       "<div>\n",
       "<style scoped>\n",
       "    .dataframe tbody tr th:only-of-type {\n",
       "        vertical-align: middle;\n",
       "    }\n",
       "\n",
       "    .dataframe tbody tr th {\n",
       "        vertical-align: top;\n",
       "    }\n",
       "\n",
       "    .dataframe thead th {\n",
       "        text-align: right;\n",
       "    }\n",
       "</style>\n",
       "<table border=\"1\" class=\"dataframe\">\n",
       "  <thead>\n",
       "    <tr style=\"text-align: right;\">\n",
       "      <th></th>\n",
       "      <th>Age</th>\n",
       "      <th>d18O</th>\n",
       "    </tr>\n",
       "  </thead>\n",
       "  <tbody>\n",
       "    <tr>\n",
       "      <th>0</th>\n",
       "      <td>3.645</td>\n",
       "      <td>3.380</td>\n",
       "    </tr>\n",
       "    <tr>\n",
       "      <th>1</th>\n",
       "      <td>7.990</td>\n",
       "      <td>3.460</td>\n",
       "    </tr>\n",
       "    <tr>\n",
       "      <th>2</th>\n",
       "      <td>11.180</td>\n",
       "      <td>3.765</td>\n",
       "    </tr>\n",
       "    <tr>\n",
       "      <th>3</th>\n",
       "      <td>13.803</td>\n",
       "      <td>4.140</td>\n",
       "    </tr>\n",
       "    <tr>\n",
       "      <th>4</th>\n",
       "      <td>15.886</td>\n",
       "      <td>4.470</td>\n",
       "    </tr>\n",
       "  </tbody>\n",
       "</table>\n",
       "</div>"
      ],
      "text/plain": [
       "      Age   d18O\n",
       "0   3.645  3.380\n",
       "1   7.990  3.460\n",
       "2  11.180  3.765\n",
       "3  13.803  4.140\n",
       "4  15.886  4.470"
      ]
     },
     "execution_count": 3,
     "metadata": {},
     "output_type": "execute_result"
    }
   ],
   "source": [
    "df = pd.read_csv('../data/ODP846.csv', header=0)\n",
    "df.head()"
   ]
  },
  {
   "cell_type": "markdown",
   "metadata": {},
   "source": [
    "For this problem, the units are in kyr BP. Need to translate to years."
   ]
  },
  {
   "cell_type": "code",
   "execution_count": 4,
   "metadata": {},
   "outputs": [
    {
     "data": {
      "text/html": [
       "<div>\n",
       "<style scoped>\n",
       "    .dataframe tbody tr th:only-of-type {\n",
       "        vertical-align: middle;\n",
       "    }\n",
       "\n",
       "    .dataframe tbody tr th {\n",
       "        vertical-align: top;\n",
       "    }\n",
       "\n",
       "    .dataframe thead th {\n",
       "        text-align: right;\n",
       "    }\n",
       "</style>\n",
       "<table border=\"1\" class=\"dataframe\">\n",
       "  <thead>\n",
       "    <tr style=\"text-align: right;\">\n",
       "      <th></th>\n",
       "      <th>Age</th>\n",
       "      <th>d18O</th>\n",
       "    </tr>\n",
       "  </thead>\n",
       "  <tbody>\n",
       "    <tr>\n",
       "      <th>0</th>\n",
       "      <td>3645.0</td>\n",
       "      <td>3.380</td>\n",
       "    </tr>\n",
       "    <tr>\n",
       "      <th>1</th>\n",
       "      <td>7990.0</td>\n",
       "      <td>3.460</td>\n",
       "    </tr>\n",
       "    <tr>\n",
       "      <th>2</th>\n",
       "      <td>11180.0</td>\n",
       "      <td>3.765</td>\n",
       "    </tr>\n",
       "    <tr>\n",
       "      <th>3</th>\n",
       "      <td>13803.0</td>\n",
       "      <td>4.140</td>\n",
       "    </tr>\n",
       "    <tr>\n",
       "      <th>4</th>\n",
       "      <td>15886.0</td>\n",
       "      <td>4.470</td>\n",
       "    </tr>\n",
       "  </tbody>\n",
       "</table>\n",
       "</div>"
      ],
      "text/plain": [
       "       Age   d18O\n",
       "0   3645.0  3.380\n",
       "1   7990.0  3.460\n",
       "2  11180.0  3.765\n",
       "3  13803.0  4.140\n",
       "4  15886.0  4.470"
      ]
     },
     "execution_count": 4,
     "metadata": {},
     "output_type": "execute_result"
    }
   ],
   "source": [
    "df['Age']*=1000\n",
    "df.head()"
   ]
  },
  {
   "cell_type": "markdown",
   "metadata": {},
   "source": [
    "It is not uncommon to have duplicated values in time (this usually arises when duplicate measurements are made on the same sample and the authors report both measurements), so let's clean that up before going any further."
   ]
  },
  {
   "cell_type": "code",
   "execution_count": 5,
   "metadata": {},
   "outputs": [
    {
     "name": "stderr",
     "output_type": "stream",
     "text": [
      "/var/folders/bf/_x19bm694857h_hrw44j0p7w0000gn/T/ipykernel_50484/3568989160.py:60: DeprecationWarning: `np.float` is a deprecated alias for the builtin `float`. To silence this warning, use `float` by itself. Doing this will not modify any behavior and is safe. If you specifically wanted the numpy scalar type, use `np.float64` here.\n",
      "Deprecated in NumPy 1.20; for more details and guidance: https://numpy.org/devdocs/release/1.20.0-notes.html#deprecations\n",
      "  ys = np.asarray(ys, dtype=np.float)\n",
      "/var/folders/bf/_x19bm694857h_hrw44j0p7w0000gn/T/ipykernel_50484/3568989160.py:61: DeprecationWarning: `np.float` is a deprecated alias for the builtin `float`. To silence this warning, use `float` by itself. Doing this will not modify any behavior and is safe. If you specifically wanted the numpy scalar type, use `np.float64` here.\n",
      "Deprecated in NumPy 1.20; for more details and guidance: https://numpy.org/devdocs/release/1.20.0-notes.html#deprecations\n",
      "  ts = np.asarray(ts, dtype=np.float)\n",
      "/var/folders/bf/_x19bm694857h_hrw44j0p7w0000gn/T/ipykernel_50484/3568989160.py:18: DeprecationWarning: `np.float` is a deprecated alias for the builtin `float`. To silence this warning, use `float` by itself. Doing this will not modify any behavior and is safe. If you specifically wanted the numpy scalar type, use `np.float64` here.\n",
      "Deprecated in NumPy 1.20; for more details and guidance: https://numpy.org/devdocs/release/1.20.0-notes.html#deprecations\n",
      "  ys = np.asarray(ys, dtype=np.float)\n",
      "/var/folders/bf/_x19bm694857h_hrw44j0p7w0000gn/T/ipykernel_50484/3568989160.py:19: DeprecationWarning: `np.float` is a deprecated alias for the builtin `float`. To silence this warning, use `float` by itself. Doing this will not modify any behavior and is safe. If you specifically wanted the numpy scalar type, use `np.float64` here.\n",
      "Deprecated in NumPy 1.20; for more details and guidance: https://numpy.org/devdocs/release/1.20.0-notes.html#deprecations\n",
      "  ts = np.asarray(ts, dtype=np.float)\n"
     ]
    },
    {
     "data": {
      "text/html": [
       "<div>\n",
       "<style scoped>\n",
       "    .dataframe tbody tr th:only-of-type {\n",
       "        vertical-align: middle;\n",
       "    }\n",
       "\n",
       "    .dataframe tbody tr th {\n",
       "        vertical-align: top;\n",
       "    }\n",
       "\n",
       "    .dataframe thead th {\n",
       "        text-align: right;\n",
       "    }\n",
       "</style>\n",
       "<table border=\"1\" class=\"dataframe\">\n",
       "  <thead>\n",
       "    <tr style=\"text-align: right;\">\n",
       "      <th></th>\n",
       "      <th>Age</th>\n",
       "      <th>d18O</th>\n",
       "    </tr>\n",
       "  </thead>\n",
       "  <tbody>\n",
       "    <tr>\n",
       "      <th>0</th>\n",
       "      <td>3645.0</td>\n",
       "      <td>3.380</td>\n",
       "    </tr>\n",
       "    <tr>\n",
       "      <th>1</th>\n",
       "      <td>7990.0</td>\n",
       "      <td>3.460</td>\n",
       "    </tr>\n",
       "    <tr>\n",
       "      <th>2</th>\n",
       "      <td>11180.0</td>\n",
       "      <td>3.765</td>\n",
       "    </tr>\n",
       "    <tr>\n",
       "      <th>3</th>\n",
       "      <td>13803.0</td>\n",
       "      <td>4.140</td>\n",
       "    </tr>\n",
       "    <tr>\n",
       "      <th>4</th>\n",
       "      <td>15886.0</td>\n",
       "      <td>4.470</td>\n",
       "    </tr>\n",
       "  </tbody>\n",
       "</table>\n",
       "</div>"
      ],
      "text/plain": [
       "       Age   d18O\n",
       "0   3645.0  3.380\n",
       "1   7990.0  3.460\n",
       "2  11180.0  3.765\n",
       "3  13803.0  4.140\n",
       "4  15886.0  4.470"
      ]
     },
     "execution_count": 5,
     "metadata": {},
     "output_type": "execute_result"
    }
   ],
   "source": [
    "def reduce_duplicated_timestamps(ys, ts, verbose=False):\n",
    "    ''' Reduce duplicated timestamps in a timeseries by averaging the values\n",
    "    Parameters\n",
    "    ----------\n",
    "    ys : array\n",
    "        Dependent variable\n",
    "    ts : array\n",
    "        Independent variable\n",
    "    verbose : bool\n",
    "        If True, will print a warning message\n",
    "    Returns\n",
    "    -------\n",
    "    ys : array\n",
    "        Dependent variable\n",
    "    ts : array\n",
    "        Independent variable, with duplicated timestamps reduced by averaging the values\n",
    "    '''\n",
    "    ys = np.asarray(ys, dtype=np.float)\n",
    "    ts = np.asarray(ts, dtype=np.float)\n",
    "    assert ys.size == ts.size, 'The size of time axis and data value should be equal!'\n",
    "\n",
    "    if len(ts) != len(set(ts)):\n",
    "        value = OrderedDict()\n",
    "        for t, y in zip(ts, ys):\n",
    "            if t not in value:\n",
    "                value[t] = [y]\n",
    "            else:\n",
    "                value[t].append(y)\n",
    "\n",
    "        ts = []\n",
    "        ys = []\n",
    "        for k, v in value.items():\n",
    "            ts.append(k)\n",
    "            ys.append(np.mean(v))\n",
    "\n",
    "        ts = np.array(ts)\n",
    "        ys = np.array(ys)\n",
    "\n",
    "        if verbose:\n",
    "            print('Duplicate timestamps have been combined by averaging values.')\n",
    "    return ys, ts\n",
    "\n",
    "def sort_ts(ys, ts, verbose=False):\n",
    "    ''' Sort ts values in ascending order\n",
    "    Parameters\n",
    "    ----------\n",
    "    ys : array\n",
    "        Dependent variable\n",
    "    ts : array\n",
    "        Independent variable\n",
    "    verbose : bool\n",
    "        If True, will print a warning message\n",
    "    Returns\n",
    "    -------\n",
    "    ys : array\n",
    "        Dependent variable\n",
    "    ts : array\n",
    "        Independent variable, sorted in ascending order\n",
    "    '''\n",
    "    ys = np.asarray(ys, dtype=np.float)\n",
    "    ts = np.asarray(ts, dtype=np.float)\n",
    "    assert ys.size == ts.size, 'time and value arrays must be of equal length'\n",
    "\n",
    "    # sort the time series so that the time axis will be ascending\n",
    "    dt = np.median(np.diff(ts))\n",
    "    if dt < 0:\n",
    "        sort_ind = np.argsort(ts)\n",
    "        ys = ys[sort_ind]\n",
    "        ts = ts[sort_ind]\n",
    "        if verbose:\n",
    "            print('The time axis has been adjusted to be prograde')\n",
    "\n",
    "    return ys, ts\n",
    "\n",
    "#Clean and sort the data\n",
    "d18O_sort, age_sort = sort_ts(df['d18O'],df['Age'])\n",
    "d18O_clean, age_clean = reduce_duplicated_timestamps(d18O_sort,age_sort)\n",
    "# Put it back into a dataframe\n",
    "df2 = pd.DataFrame({'Age':age_clean,'d18O':d18O_clean})\n",
    "df2.head()"
   ]
  },
  {
   "cell_type": "markdown",
   "metadata": {},
   "source": [
    "Explore the time axis:"
   ]
  },
  {
   "cell_type": "code",
   "execution_count": 6,
   "metadata": {},
   "outputs": [
    {
     "name": "stdout",
     "output_type": "stream",
     "text": [
      "min value: 3645.0\n",
      "max value: 5029727.0\n",
      "mean dt value: 2520.6028084252757\n",
      "median dt value: 2326.0\n",
      "min dt value: 180.0\n",
      "max dt value: 26729.0\n"
     ]
    }
   ],
   "source": [
    "print('min value: '+ str(df2['Age'].min()))\n",
    "print('max value: '+str(df2['Age'].max()))\n",
    "print('mean dt value: '+str(df2['Age'].diff().mean()))\n",
    "print('median dt value: '+str(df2['Age'].diff().median()))\n",
    "print('min dt value: '+str(df2['Age'].diff().min()))\n",
    "print('max dt value: '+str(df2['Age'].diff().max()))"
   ]
  },
  {
   "cell_type": "markdown",
   "metadata": {},
   "source": [
    "Let's use the minimum dt to create the time axis. "
   ]
  },
  {
   "cell_type": "code",
   "execution_count": 7,
   "metadata": {},
   "outputs": [
    {
     "ename": "ValueError",
     "evalue": "no fill-function for data-type.",
     "output_type": "error",
     "traceback": [
      "\u001b[0;31m---------------------------------------------------------------------------\u001b[0m",
      "\u001b[0;31mValueError\u001b[0m                                Traceback (most recent call last)",
      "Cell \u001b[0;32mIn[7], line 1\u001b[0m\n\u001b[0;32m----> 1\u001b[0m dti \u001b[38;5;241m=\u001b[39m \u001b[43mnp\u001b[49m\u001b[38;5;241;43m.\u001b[39;49m\u001b[43marange\u001b[49m\u001b[43m(\u001b[49m\u001b[43mdf2\u001b[49m\u001b[43m[\u001b[49m\u001b[38;5;124;43m'\u001b[39;49m\u001b[38;5;124;43mAge\u001b[39;49m\u001b[38;5;124;43m'\u001b[39;49m\u001b[43m]\u001b[49m\u001b[38;5;241;43m.\u001b[39;49m\u001b[43mmin\u001b[49m\u001b[43m(\u001b[49m\u001b[43m)\u001b[49m\u001b[43m,\u001b[49m\u001b[43mdf2\u001b[49m\u001b[43m[\u001b[49m\u001b[38;5;124;43m'\u001b[39;49m\u001b[38;5;124;43mAge\u001b[39;49m\u001b[38;5;124;43m'\u001b[39;49m\u001b[43m]\u001b[49m\u001b[38;5;241;43m.\u001b[39;49m\u001b[43mmax\u001b[49m\u001b[43m(\u001b[49m\u001b[43m)\u001b[49m\u001b[38;5;241;43m+\u001b[39;49m\u001b[43mdf2\u001b[49m\u001b[43m[\u001b[49m\u001b[38;5;124;43m'\u001b[39;49m\u001b[38;5;124;43mAge\u001b[39;49m\u001b[38;5;124;43m'\u001b[39;49m\u001b[43m]\u001b[49m\u001b[38;5;241;43m.\u001b[39;49m\u001b[43mdiff\u001b[49m\u001b[43m(\u001b[49m\u001b[43m)\u001b[49m\u001b[38;5;241;43m.\u001b[39;49m\u001b[43mmin\u001b[49m\u001b[43m(\u001b[49m\u001b[43m)\u001b[49m\u001b[43m,\u001b[49m\u001b[43mdf2\u001b[49m\u001b[43m[\u001b[49m\u001b[38;5;124;43m'\u001b[39;49m\u001b[38;5;124;43mAge\u001b[39;49m\u001b[38;5;124;43m'\u001b[39;49m\u001b[43m]\u001b[49m\u001b[38;5;241;43m.\u001b[39;49m\u001b[43mdiff\u001b[49m\u001b[43m(\u001b[49m\u001b[43m)\u001b[49m\u001b[38;5;241;43m.\u001b[39;49m\u001b[43mmin\u001b[49m\u001b[43m(\u001b[49m\u001b[43m)\u001b[49m\u001b[43m,\u001b[49m\u001b[43m \u001b[49m\u001b[43mdtype\u001b[49m\u001b[38;5;241;43m=\u001b[39;49m\u001b[38;5;124;43m'\u001b[39;49m\u001b[38;5;124;43mstr\u001b[39;49m\u001b[38;5;124;43m'\u001b[39;49m\u001b[43m)\u001b[49m\n\u001b[1;32m      2\u001b[0m ts \u001b[38;5;241m=\u001b[39m np\u001b[38;5;241m.\u001b[39marray(dti,dtype\u001b[38;5;241m=\u001b[39m\u001b[38;5;124m'\u001b[39m\u001b[38;5;124mdatetime64[Y]\u001b[39m\u001b[38;5;124m'\u001b[39m)\n",
      "\u001b[0;31mValueError\u001b[0m: no fill-function for data-type."
     ]
    }
   ],
   "source": [
    "dti = np.arange(df2['Age'].min(),df2['Age'].max()+df2['Age'].diff().min(),df2['Age'].diff().min(), dtype='str')\n",
    "ts = np.array(dti,dtype='datetime64[Y]')"
   ]
  },
  {
   "cell_type": "code",
   "execution_count": null,
   "metadata": {},
   "outputs": [],
   "source": []
  }
 ],
 "metadata": {
  "kernelspec": {
   "display_name": "pyleo310",
   "language": "python",
   "name": "pyleo310"
  },
  "language_info": {
   "codemirror_mode": {
    "name": "ipython",
    "version": 3
   },
   "file_extension": ".py",
   "mimetype": "text/x-python",
   "name": "python",
   "nbconvert_exporter": "python",
   "pygments_lexer": "ipython3",
   "version": "3.10.8"
  }
 },
 "nbformat": 4,
 "nbformat_minor": 4
}
