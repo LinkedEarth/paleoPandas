{
 "cells": [
  {
   "cell_type": "markdown",
   "id": "85a957cf-e383-4200-8dcf-10a490570daf",
   "metadata": {},
   "source": [
    "# Exploring non-nanosecond time implementations on Pandas Data Structures\n",
    "\n",
    "This notebook demonstrates the current state of the implementation for non-nanosecond datetimes as detailed in [PR 47675](https://github.com/pandas-dev/pandas/pull/47675/files). The pandas version is printed\n",
    "at the beginning so that you can easily look at the exact commits that are included in the nightly build.\n",
    "\n",
    "To ensure that this notebook runs properly, please install the environment or refer to [ENVIRONMENT.md](../ENVIRONMENT.md)\n",
    "\n",
    "\n",
    "Helpful Links:\n",
    "* [NumPy DateTime Units](https://numpy.org/doc/stable/reference/arrays.datetime.html#datetime-units)\n",
    "* [Original Proposal](https://numpy.org/doc/1.13/neps/datetime-proposal.html)"
   ]
  },
  {
   "cell_type": "code",
   "execution_count": 1,
   "id": "2f1484a2-250d-4187-a4ac-b522d83d41e5",
   "metadata": {
    "tags": []
   },
   "outputs": [
    {
     "data": {
      "text/markdown": [
       "\n",
       "|Package| Version         |\n",
       "|:------|----------------:|\n",
       "|Python | 3.10.8 (main, Nov  4 2022, 08:45:25) [Clang 12.0.0 ]   |\n",
       "|Pandas | 2.0.0.dev0+724.ga6d3e13b3a|\n",
       "|Numpy  | 1.23.4|\n"
      ],
      "text/plain": [
       "<IPython.core.display.Markdown object>"
      ]
     },
     "metadata": {},
     "output_type": "display_data"
    }
   ],
   "source": [
    "import pathlib\n",
    "import logging\n",
    "import sys\n",
    "\n",
    "import numpy as np\n",
    "import pandas as pd\n",
    "\n",
    "from IPython.display import display, Markdown\n",
    "\n",
    "# Setup Logging\n",
    "logger = logging.getLogger(__name__)\n",
    "logger.setLevel(logging.DEBUG)\n",
    "\n",
    "handler = logging.StreamHandler(sys.stdout)\n",
    "handler.setLevel(logging.INFO)\n",
    "\n",
    "logger.addHandler(handler)\n",
    "\n",
    "display(Markdown(f'''\n",
    "|Package| Version         |\n",
    "|:------|----------------:|\n",
    "|Python | {sys.version}   |\n",
    "|Pandas | {pd.__version__}|\n",
    "|Numpy  | {np.__version__}|\n",
    "'''))"
   ]
  },
  {
   "cell_type": "markdown",
   "id": "5bafce3a-46a4-4443-b426-21819408b34d",
   "metadata": {
    "tags": []
   },
   "source": [
    "### pandas `date_range`\n",
    "\n",
    "We recast the resolution on the date_range object. However, creating timestamps older than 1700-01-01 results in out of bounds"
   ]
  },
  {
   "cell_type": "code",
   "execution_count": 2,
   "id": "88582114-764c-4abe-ace3-1d6045b23169",
   "metadata": {},
   "outputs": [
    {
     "data": {
      "text/plain": [
       "DatetimeIndex(['1700-01-01', '1700-01-02', '1700-01-03', '1700-01-04',\n",
       "               '1700-01-05'],\n",
       "              dtype='datetime64[ns]', freq='D')"
      ]
     },
     "execution_count": 2,
     "metadata": {},
     "output_type": "execute_result"
    }
   ],
   "source": [
    "dr = pd.date_range('1700', periods=100).astype('datetime64[ns]')\n",
    "dr[:5]"
   ]
  },
  {
   "cell_type": "code",
   "execution_count": 3,
   "id": "18cfe78c-3c4c-4576-b419-71d51f9abdf9",
   "metadata": {},
   "outputs": [
    {
     "data": {
      "text/plain": [
       "DatetimeIndex(['1700-01-01', '1700-01-02', '1700-01-03', '1700-01-04',\n",
       "               '1700-01-05'],\n",
       "              dtype='datetime64[s]', freq=None)"
      ]
     },
     "execution_count": 3,
     "metadata": {},
     "output_type": "execute_result"
    }
   ],
   "source": [
    "dr_seconds = dr.astype('datetime64[s]')\n",
    "dr_seconds[:5]"
   ]
  },
  {
   "cell_type": "code",
   "execution_count": 4,
   "id": "284a0679-6563-4388-8467-f966840127b8",
   "metadata": {},
   "outputs": [
    {
     "name": "stdout",
     "output_type": "stream",
     "text": [
      "Pandas OutOfBoundsDateTime Exception Raised\n"
     ]
    }
   ],
   "source": [
    "try:\n",
    "    dr_older = pd.date_range('1500', periods=100).astype('datetime64[ns]')\n",
    "except:\n",
    "    logger.error('Pandas OutOfBoundsDateTime Exception Raised')"
   ]
  },
  {
   "cell_type": "markdown",
   "id": "0e888c9d-d620-4e8c-83c6-9771ea7283eb",
   "metadata": {
    "tags": []
   },
   "source": [
    "### pandas `Series`\n",
    "\n",
    "See above; same result"
   ]
  },
  {
   "cell_type": "code",
   "execution_count": 5,
   "id": "f53c3d3a-b938-4b8e-a32a-0719da80202e",
   "metadata": {},
   "outputs": [
    {
     "data": {
      "text/plain": [
       "(0   1700-01-01\n",
       " dtype: datetime64[s],\n",
       " 0   1700-01-01\n",
       " dtype: datetime64[ns])"
      ]
     },
     "execution_count": 5,
     "metadata": {},
     "output_type": "execute_result"
    }
   ],
   "source": [
    "seconds = pd.Series(['1700-01-01'], dtype='datetime64[s]')\n",
    "nanoseconds = pd.Series(['1700-01-01'], dtype='datetime64[ns]')\n",
    "\n",
    "seconds, nanoseconds"
   ]
  },
  {
   "cell_type": "code",
   "execution_count": 6,
   "id": "9e037ead-f108-47e0-8508-40d71848d84a",
   "metadata": {},
   "outputs": [
    {
     "name": "stdout",
     "output_type": "stream",
     "text": [
      "Pandas DateTime OutOfBounds Exception Raised\n"
     ]
    }
   ],
   "source": [
    "try:\n",
    "    seconds = pd.Series(['1500-01-01'], dtype='datetime64[s]')\n",
    "except:\n",
    "    logger.error('Pandas DateTime OutOfBounds Exception Raised')"
   ]
  },
  {
   "cell_type": "markdown",
   "id": "5f7073b1-c00e-4fd0-9826-de67258508bb",
   "metadata": {},
   "source": [
    "## pandas powered by NumPy\n",
    "\n",
    "The problems that we ran into above can be surpressed by using numpy as the input array. We will explore a set of examples in this section:\n",
    "\n",
    "1) A pandas.Series whose dates ranges exist outside of the currently known limits for 9 digit precision (1700-01-01 to 2262-04-11)\n",
    "2) A pandas.DataFrame whose index is the aforementioned series with 2 columns:\n",
    "    * FARENHEIGHT - Randomly generated floating point\n",
    "    * KELVIN - Randomly generated float\n",
    "\n",
    "We will then explore doing the same things millions of years in the past and in the future. \n"
   ]
  },
  {
   "cell_type": "code",
   "execution_count": 7,
   "id": "3ffa7358-9982-4b6c-9609-cb133c7b42fa",
   "metadata": {},
   "outputs": [],
   "source": [
    "start_year = 1300\n",
    "stop_year = 2300\n",
    "\n",
    "arr = np.arange(np.datetime64(f\"{start_year}-01-01\"), np.datetime64(f\"{stop_year}-01-01\"), np.timedelta64(10, \"Y\"), dtype='datetime64[Y]').astype(\"M8[s]\")\n",
    "series = pd.Series(arr)"
   ]
  },
  {
   "cell_type": "markdown",
   "id": "f37adf8e-7343-401a-bf19-f3229d09fb10",
   "metadata": {},
   "source": [
    "The above line generates a set of datetimes outside the accepted range since we are using second precision. This is an example that works as such:\n",
    "* Generate dates using arange \n",
    "* Inside the arange, use datetime as Years to skip ns time non-linearity \n",
    "* Cast the units to seconds using astype\n",
    "* Generate a series from the resulting array\n",
    "\n",
    "Note that in this case, that pandas is able to represnt dates well out of its range."
   ]
  },
  {
   "cell_type": "code",
   "execution_count": 8,
   "id": "d00a0d2a-fc3a-4f98-b6b6-e9037ae4094d",
   "metadata": {},
   "outputs": [
    {
     "ename": "TypeError",
     "evalue": "Only valid with DatetimeIndex, TimedeltaIndex or PeriodIndex, but got an instance of 'RangeIndex'",
     "output_type": "error",
     "traceback": [
      "\u001b[0;31m---------------------------------------------------------------------------\u001b[0m",
      "\u001b[0;31mTypeError\u001b[0m                                 Traceback (most recent call last)",
      "Cell \u001b[0;32mIn [8], line 1\u001b[0m\n\u001b[0;32m----> 1\u001b[0m \u001b[43mseries\u001b[49m\u001b[38;5;241;43m.\u001b[39;49m\u001b[43mresample\u001b[49m\u001b[43m(\u001b[49m\u001b[38;5;124;43m'\u001b[39;49m\u001b[38;5;124;43m50Y\u001b[39;49m\u001b[38;5;124;43m'\u001b[39;49m\u001b[43m)\u001b[49m\n",
      "File \u001b[0;32m~/Workspace/micromamba/envs/paleopandas/lib/python3.10/site-packages/pandas/core/series.py:5593\u001b[0m, in \u001b[0;36mSeries.resample\u001b[0;34m(self, rule, axis, closed, label, convention, kind, on, level, origin, offset, group_keys)\u001b[0m\n\u001b[1;32m   5578\u001b[0m \u001b[38;5;129m@doc\u001b[39m(NDFrame\u001b[38;5;241m.\u001b[39mresample, \u001b[38;5;241m*\u001b[39m\u001b[38;5;241m*\u001b[39m_shared_doc_kwargs)  \u001b[38;5;66;03m# type: ignore[has-type]\u001b[39;00m\n\u001b[1;32m   5579\u001b[0m \u001b[38;5;28;01mdef\u001b[39;00m \u001b[38;5;21mresample\u001b[39m(\n\u001b[1;32m   5580\u001b[0m     \u001b[38;5;28mself\u001b[39m,\n\u001b[0;32m   (...)\u001b[0m\n\u001b[1;32m   5591\u001b[0m     group_keys: \u001b[38;5;28mbool\u001b[39m \u001b[38;5;241m|\u001b[39m lib\u001b[38;5;241m.\u001b[39mNoDefault \u001b[38;5;241m=\u001b[39m no_default,\n\u001b[1;32m   5592\u001b[0m ) \u001b[38;5;241m-\u001b[39m\u001b[38;5;241m>\u001b[39m Resampler:\n\u001b[0;32m-> 5593\u001b[0m     \u001b[38;5;28;01mreturn\u001b[39;00m \u001b[38;5;28;43msuper\u001b[39;49m\u001b[43m(\u001b[49m\u001b[43m)\u001b[49m\u001b[38;5;241;43m.\u001b[39;49m\u001b[43mresample\u001b[49m\u001b[43m(\u001b[49m\n\u001b[1;32m   5594\u001b[0m \u001b[43m        \u001b[49m\u001b[43mrule\u001b[49m\u001b[38;5;241;43m=\u001b[39;49m\u001b[43mrule\u001b[49m\u001b[43m,\u001b[49m\n\u001b[1;32m   5595\u001b[0m \u001b[43m        \u001b[49m\u001b[43maxis\u001b[49m\u001b[38;5;241;43m=\u001b[39;49m\u001b[43maxis\u001b[49m\u001b[43m,\u001b[49m\n\u001b[1;32m   5596\u001b[0m \u001b[43m        \u001b[49m\u001b[43mclosed\u001b[49m\u001b[38;5;241;43m=\u001b[39;49m\u001b[43mclosed\u001b[49m\u001b[43m,\u001b[49m\n\u001b[1;32m   5597\u001b[0m \u001b[43m        \u001b[49m\u001b[43mlabel\u001b[49m\u001b[38;5;241;43m=\u001b[39;49m\u001b[43mlabel\u001b[49m\u001b[43m,\u001b[49m\n\u001b[1;32m   5598\u001b[0m \u001b[43m        \u001b[49m\u001b[43mconvention\u001b[49m\u001b[38;5;241;43m=\u001b[39;49m\u001b[43mconvention\u001b[49m\u001b[43m,\u001b[49m\n\u001b[1;32m   5599\u001b[0m \u001b[43m        \u001b[49m\u001b[43mkind\u001b[49m\u001b[38;5;241;43m=\u001b[39;49m\u001b[43mkind\u001b[49m\u001b[43m,\u001b[49m\n\u001b[1;32m   5600\u001b[0m \u001b[43m        \u001b[49m\u001b[43mon\u001b[49m\u001b[38;5;241;43m=\u001b[39;49m\u001b[43mon\u001b[49m\u001b[43m,\u001b[49m\n\u001b[1;32m   5601\u001b[0m \u001b[43m        \u001b[49m\u001b[43mlevel\u001b[49m\u001b[38;5;241;43m=\u001b[39;49m\u001b[43mlevel\u001b[49m\u001b[43m,\u001b[49m\n\u001b[1;32m   5602\u001b[0m \u001b[43m        \u001b[49m\u001b[43morigin\u001b[49m\u001b[38;5;241;43m=\u001b[39;49m\u001b[43morigin\u001b[49m\u001b[43m,\u001b[49m\n\u001b[1;32m   5603\u001b[0m \u001b[43m        \u001b[49m\u001b[43moffset\u001b[49m\u001b[38;5;241;43m=\u001b[39;49m\u001b[43moffset\u001b[49m\u001b[43m,\u001b[49m\n\u001b[1;32m   5604\u001b[0m \u001b[43m        \u001b[49m\u001b[43mgroup_keys\u001b[49m\u001b[38;5;241;43m=\u001b[39;49m\u001b[43mgroup_keys\u001b[49m\u001b[43m,\u001b[49m\n\u001b[1;32m   5605\u001b[0m \u001b[43m    \u001b[49m\u001b[43m)\u001b[49m\n",
      "File \u001b[0;32m~/Workspace/micromamba/envs/paleopandas/lib/python3.10/site-packages/pandas/core/generic.py:8707\u001b[0m, in \u001b[0;36mNDFrame.resample\u001b[0;34m(self, rule, axis, closed, label, convention, kind, on, level, origin, offset, group_keys)\u001b[0m\n\u001b[1;32m   8704\u001b[0m \u001b[38;5;28;01mfrom\u001b[39;00m \u001b[38;5;21;01mpandas\u001b[39;00m\u001b[38;5;21;01m.\u001b[39;00m\u001b[38;5;21;01mcore\u001b[39;00m\u001b[38;5;21;01m.\u001b[39;00m\u001b[38;5;21;01mresample\u001b[39;00m \u001b[38;5;28;01mimport\u001b[39;00m get_resampler\n\u001b[1;32m   8706\u001b[0m axis \u001b[38;5;241m=\u001b[39m \u001b[38;5;28mself\u001b[39m\u001b[38;5;241m.\u001b[39m_get_axis_number(axis)\n\u001b[0;32m-> 8707\u001b[0m \u001b[38;5;28;01mreturn\u001b[39;00m \u001b[43mget_resampler\u001b[49m\u001b[43m(\u001b[49m\n\u001b[1;32m   8708\u001b[0m \u001b[43m    \u001b[49m\u001b[38;5;28;43mself\u001b[39;49m\u001b[43m,\u001b[49m\n\u001b[1;32m   8709\u001b[0m \u001b[43m    \u001b[49m\u001b[43mfreq\u001b[49m\u001b[38;5;241;43m=\u001b[39;49m\u001b[43mrule\u001b[49m\u001b[43m,\u001b[49m\n\u001b[1;32m   8710\u001b[0m \u001b[43m    \u001b[49m\u001b[43mlabel\u001b[49m\u001b[38;5;241;43m=\u001b[39;49m\u001b[43mlabel\u001b[49m\u001b[43m,\u001b[49m\n\u001b[1;32m   8711\u001b[0m \u001b[43m    \u001b[49m\u001b[43mclosed\u001b[49m\u001b[38;5;241;43m=\u001b[39;49m\u001b[43mclosed\u001b[49m\u001b[43m,\u001b[49m\n\u001b[1;32m   8712\u001b[0m \u001b[43m    \u001b[49m\u001b[43maxis\u001b[49m\u001b[38;5;241;43m=\u001b[39;49m\u001b[43maxis\u001b[49m\u001b[43m,\u001b[49m\n\u001b[1;32m   8713\u001b[0m \u001b[43m    \u001b[49m\u001b[43mkind\u001b[49m\u001b[38;5;241;43m=\u001b[39;49m\u001b[43mkind\u001b[49m\u001b[43m,\u001b[49m\n\u001b[1;32m   8714\u001b[0m \u001b[43m    \u001b[49m\u001b[43mconvention\u001b[49m\u001b[38;5;241;43m=\u001b[39;49m\u001b[43mconvention\u001b[49m\u001b[43m,\u001b[49m\n\u001b[1;32m   8715\u001b[0m \u001b[43m    \u001b[49m\u001b[43mkey\u001b[49m\u001b[38;5;241;43m=\u001b[39;49m\u001b[43mon\u001b[49m\u001b[43m,\u001b[49m\n\u001b[1;32m   8716\u001b[0m \u001b[43m    \u001b[49m\u001b[43mlevel\u001b[49m\u001b[38;5;241;43m=\u001b[39;49m\u001b[43mlevel\u001b[49m\u001b[43m,\u001b[49m\n\u001b[1;32m   8717\u001b[0m \u001b[43m    \u001b[49m\u001b[43morigin\u001b[49m\u001b[38;5;241;43m=\u001b[39;49m\u001b[43morigin\u001b[49m\u001b[43m,\u001b[49m\n\u001b[1;32m   8718\u001b[0m \u001b[43m    \u001b[49m\u001b[43moffset\u001b[49m\u001b[38;5;241;43m=\u001b[39;49m\u001b[43moffset\u001b[49m\u001b[43m,\u001b[49m\n\u001b[1;32m   8719\u001b[0m \u001b[43m    \u001b[49m\u001b[43mgroup_keys\u001b[49m\u001b[38;5;241;43m=\u001b[39;49m\u001b[43mgroup_keys\u001b[49m\u001b[43m,\u001b[49m\n\u001b[1;32m   8720\u001b[0m \u001b[43m\u001b[49m\u001b[43m)\u001b[49m\n",
      "File \u001b[0;32m~/Workspace/micromamba/envs/paleopandas/lib/python3.10/site-packages/pandas/core/resample.py:1491\u001b[0m, in \u001b[0;36mget_resampler\u001b[0;34m(obj, kind, **kwds)\u001b[0m\n\u001b[1;32m   1487\u001b[0m \u001b[38;5;124;03m\"\"\"\u001b[39;00m\n\u001b[1;32m   1488\u001b[0m \u001b[38;5;124;03mCreate a TimeGrouper and return our resampler.\u001b[39;00m\n\u001b[1;32m   1489\u001b[0m \u001b[38;5;124;03m\"\"\"\u001b[39;00m\n\u001b[1;32m   1490\u001b[0m tg \u001b[38;5;241m=\u001b[39m TimeGrouper(\u001b[38;5;241m*\u001b[39m\u001b[38;5;241m*\u001b[39mkwds)\n\u001b[0;32m-> 1491\u001b[0m \u001b[38;5;28;01mreturn\u001b[39;00m \u001b[43mtg\u001b[49m\u001b[38;5;241;43m.\u001b[39;49m\u001b[43m_get_resampler\u001b[49m\u001b[43m(\u001b[49m\u001b[43mobj\u001b[49m\u001b[43m,\u001b[49m\u001b[43m \u001b[49m\u001b[43mkind\u001b[49m\u001b[38;5;241;43m=\u001b[39;49m\u001b[43mkind\u001b[49m\u001b[43m)\u001b[49m\n",
      "File \u001b[0;32m~/Workspace/micromamba/envs/paleopandas/lib/python3.10/site-packages/pandas/core/resample.py:1661\u001b[0m, in \u001b[0;36mTimeGrouper._get_resampler\u001b[0;34m(self, obj, kind)\u001b[0m\n\u001b[1;32m   1656\u001b[0m \u001b[38;5;28;01melif\u001b[39;00m \u001b[38;5;28misinstance\u001b[39m(ax, TimedeltaIndex):\n\u001b[1;32m   1657\u001b[0m     \u001b[38;5;28;01mreturn\u001b[39;00m TimedeltaIndexResampler(\n\u001b[1;32m   1658\u001b[0m         obj, groupby\u001b[38;5;241m=\u001b[39m\u001b[38;5;28mself\u001b[39m, axis\u001b[38;5;241m=\u001b[39m\u001b[38;5;28mself\u001b[39m\u001b[38;5;241m.\u001b[39maxis, group_keys\u001b[38;5;241m=\u001b[39m\u001b[38;5;28mself\u001b[39m\u001b[38;5;241m.\u001b[39mgroup_keys\n\u001b[1;32m   1659\u001b[0m     )\n\u001b[0;32m-> 1661\u001b[0m \u001b[38;5;28;01mraise\u001b[39;00m \u001b[38;5;167;01mTypeError\u001b[39;00m(\n\u001b[1;32m   1662\u001b[0m     \u001b[38;5;124m\"\u001b[39m\u001b[38;5;124mOnly valid with DatetimeIndex, \u001b[39m\u001b[38;5;124m\"\u001b[39m\n\u001b[1;32m   1663\u001b[0m     \u001b[38;5;124m\"\u001b[39m\u001b[38;5;124mTimedeltaIndex or PeriodIndex, \u001b[39m\u001b[38;5;124m\"\u001b[39m\n\u001b[1;32m   1664\u001b[0m     \u001b[38;5;124mf\u001b[39m\u001b[38;5;124m\"\u001b[39m\u001b[38;5;124mbut got an instance of \u001b[39m\u001b[38;5;124m'\u001b[39m\u001b[38;5;132;01m{\u001b[39;00m\u001b[38;5;28mtype\u001b[39m(ax)\u001b[38;5;241m.\u001b[39m\u001b[38;5;18m__name__\u001b[39m\u001b[38;5;132;01m}\u001b[39;00m\u001b[38;5;124m'\u001b[39m\u001b[38;5;124m\"\u001b[39m\n\u001b[1;32m   1665\u001b[0m )\n",
      "\u001b[0;31mTypeError\u001b[0m: Only valid with DatetimeIndex, TimedeltaIndex or PeriodIndex, but got an instance of 'RangeIndex'"
     ]
    }
   ],
   "source": [
    "series.resample('50Y')"
   ]
  },
  {
   "cell_type": "markdown",
   "id": "eb3f4f0b-c575-4ff1-8d62-c53d5aff9491",
   "metadata": {},
   "source": [
    "Basic resampling of the periods do not work on pandas series objects. What if we set it to an index on a dataframe?"
   ]
  },
  {
   "cell_type": "code",
   "execution_count": 9,
   "id": "e5d953b5-0fea-4f93-9ae2-3e7a7b87863c",
   "metadata": {},
   "outputs": [],
   "source": [
    "temp_f = np.random.random_sample((len(series),))*100-10 # Keep in Farenheight to demo negative numbers \n",
    "temp_k = temp_f * (5/9)+275.15\n",
    "df = pd.DataFrame({'f': temp_f, 'k': temp_k}, index=series)"
   ]
  },
  {
   "cell_type": "markdown",
   "id": "1984ad6c-560b-49b5-85c5-e643272a5c9a",
   "metadata": {},
   "source": [
    "The following example looks at slicing by index in pandas. Note the date - we are using non-ns timeseries."
   ]
  },
  {
   "cell_type": "code",
   "execution_count": 10,
   "id": "bfdb997e-51fa-4886-8e62-c3d6c2c12f55",
   "metadata": {},
   "outputs": [
    {
     "data": {
      "text/html": [
       "<div>\n",
       "<style scoped>\n",
       "    .dataframe tbody tr th:only-of-type {\n",
       "        vertical-align: middle;\n",
       "    }\n",
       "\n",
       "    .dataframe tbody tr th {\n",
       "        vertical-align: top;\n",
       "    }\n",
       "\n",
       "    .dataframe thead th {\n",
       "        text-align: right;\n",
       "    }\n",
       "</style>\n",
       "<table border=\"1\" class=\"dataframe\">\n",
       "  <thead>\n",
       "    <tr style=\"text-align: right;\">\n",
       "      <th></th>\n",
       "      <th>f</th>\n",
       "      <th>k</th>\n",
       "    </tr>\n",
       "  </thead>\n",
       "  <tbody>\n",
       "    <tr>\n",
       "      <th>1300-01-01</th>\n",
       "      <td>9.519415</td>\n",
       "      <td>280.438564</td>\n",
       "    </tr>\n",
       "    <tr>\n",
       "      <th>1310-01-01</th>\n",
       "      <td>-8.359774</td>\n",
       "      <td>270.505681</td>\n",
       "    </tr>\n",
       "    <tr>\n",
       "      <th>1320-01-01</th>\n",
       "      <td>31.131706</td>\n",
       "      <td>292.445392</td>\n",
       "    </tr>\n",
       "    <tr>\n",
       "      <th>1330-01-01</th>\n",
       "      <td>80.627611</td>\n",
       "      <td>319.943117</td>\n",
       "    </tr>\n",
       "    <tr>\n",
       "      <th>1340-01-01</th>\n",
       "      <td>23.277231</td>\n",
       "      <td>288.081795</td>\n",
       "    </tr>\n",
       "    <tr>\n",
       "      <th>1350-01-01</th>\n",
       "      <td>-1.630995</td>\n",
       "      <td>274.243892</td>\n",
       "    </tr>\n",
       "    <tr>\n",
       "      <th>1360-01-01</th>\n",
       "      <td>55.523783</td>\n",
       "      <td>305.996546</td>\n",
       "    </tr>\n",
       "    <tr>\n",
       "      <th>1370-01-01</th>\n",
       "      <td>52.438165</td>\n",
       "      <td>304.282314</td>\n",
       "    </tr>\n",
       "    <tr>\n",
       "      <th>1380-01-01</th>\n",
       "      <td>26.172441</td>\n",
       "      <td>289.690245</td>\n",
       "    </tr>\n",
       "    <tr>\n",
       "      <th>1390-01-01</th>\n",
       "      <td>-5.031728</td>\n",
       "      <td>272.354596</td>\n",
       "    </tr>\n",
       "  </tbody>\n",
       "</table>\n",
       "</div>"
      ],
      "text/plain": [
       "                    f           k\n",
       "1300-01-01   9.519415  280.438564\n",
       "1310-01-01  -8.359774  270.505681\n",
       "1320-01-01  31.131706  292.445392\n",
       "1330-01-01  80.627611  319.943117\n",
       "1340-01-01  23.277231  288.081795\n",
       "1350-01-01  -1.630995  274.243892\n",
       "1360-01-01  55.523783  305.996546\n",
       "1370-01-01  52.438165  304.282314\n",
       "1380-01-01  26.172441  289.690245\n",
       "1390-01-01  -5.031728  272.354596"
      ]
     },
     "execution_count": 10,
     "metadata": {},
     "output_type": "execute_result"
    }
   ],
   "source": [
    "df[df.index < np.datetime64('1400-01-01')]"
   ]
  },
  {
   "cell_type": "code",
   "execution_count": 11,
   "id": "9936fced-28ca-4b39-a814-bd83b1cb8629",
   "metadata": {},
   "outputs": [
    {
     "data": {
      "text/plain": [
       "-8.359774097104447"
      ]
     },
     "execution_count": 11,
     "metadata": {},
     "output_type": "execute_result"
    }
   ],
   "source": [
    "df[df.index < np.datetime64('1400-01-01')]['f'].min()"
   ]
  },
  {
   "cell_type": "markdown",
   "id": "e8cabfd3-1fa6-475d-86f5-48a92b91d6b0",
   "metadata": {},
   "source": []
  }
 ],
 "metadata": {
  "kernelspec": {
   "display_name": "Python 3 (ipykernel)",
   "language": "python",
   "name": "python3"
  },
  "language_info": {
   "codemirror_mode": {
    "name": "ipython",
    "version": 3
   },
   "file_extension": ".py",
   "mimetype": "text/x-python",
   "name": "python",
   "nbconvert_exporter": "python",
   "pygments_lexer": "ipython3",
   "version": "3.10.8"
  }
 },
 "nbformat": 4,
 "nbformat_minor": 5
}
