{
 "cells": [
  {
   "cell_type": "markdown",
   "id": "85a957cf-e383-4200-8dcf-10a490570daf",
   "metadata": {},
   "source": [
    "# Exploring non-nanosecond time implementations on Pandas Data Structures\n",
    "\n",
    "This notebook demonstrates the current state of the implementation for non-nanosecond datetimes as detailed in [PR 47675](https://github.com/pandas-dev/pandas/pull/47675/files). The pandas version is printed\n",
    "at the beginning so that you can easily look at the exact commits that are included in the nightly build.\n",
    "\n",
    "To ensure that this notebook runs properly, please install the environment or refer to [ENVIRONMENT.md](../ENVIRONMENT.md) to \n",
    "Helpful Links:\n",
    "* [NumPy DateTime Units](https://numpy.org/doc/stable/reference/arrays.datetime.html#datetime-units)\n",
    "* [Original Proposal](https://numpy.org/doc/1.13/neps/datetime-proposal.html)"
   ]
  },
  {
   "cell_type": "code",
   "execution_count": 5,
   "id": "2f1484a2-250d-4187-a4ac-b522d83d41e5",
   "metadata": {
    "tags": []
   },
   "outputs": [
    {
     "data": {
      "text/markdown": [
       "\n",
       "|Package| Version         |\n",
       "|:------|----------------:|\n",
       "|Python | 3.10.8 (main, Nov  4 2022, 08:45:25) [Clang 12.0.0 ]   |\n",
       "|Pandas | 2.0.0.dev0+724.ga6d3e13b3a|\n",
       "|Numpy  | 1.23.4|\n"
      ],
      "text/plain": [
       "<IPython.core.display.Markdown object>"
      ]
     },
     "metadata": {},
     "output_type": "display_data"
    }
   ],
   "source": [
    "import pathlib\n",
    "import logging\n",
    "import sys\n",
    "\n",
    "import numpy as np\n",
    "import pandas as pd\n",
    "\n",
    "from IPython.display import display, Markdown\n",
    "\n",
    "# Setup Logging\n",
    "logger = logging.getLogger(__name__)\n",
    "logger.setLevel(logging.DEBUG)\n",
    "\n",
    "handler = logging.StreamHandler(sys.stdout)\n",
    "handler.setLevel(logging.INFO)\n",
    "\n",
    "logger.addHandler(handler)\n",
    "\n",
    "display(Markdown(f'''\n",
    "|Package| Version         |\n",
    "|:------|----------------:|\n",
    "|Python | {sys.version}   |\n",
    "|Pandas | {pd.__version__}|\n",
    "|Numpy  | {np.__version__}|\n",
    "'''))"
   ]
  },
  {
   "cell_type": "markdown",
   "id": "5bafce3a-46a4-4443-b426-21819408b34d",
   "metadata": {
    "tags": []
   },
   "source": [
    "### pandas `date_range`\n",
    "\n",
    "We recast the resolution on the date_range object. However, creating timestamps older than 1700-01-01 results in out of bounds"
   ]
  },
  {
   "cell_type": "code",
   "execution_count": 2,
   "id": "88582114-764c-4abe-ace3-1d6045b23169",
   "metadata": {},
   "outputs": [
    {
     "data": {
      "text/plain": [
       "DatetimeIndex(['1700-01-01', '1700-01-02', '1700-01-03', '1700-01-04',\n",
       "               '1700-01-05'],\n",
       "              dtype='datetime64[ns]', freq='D')"
      ]
     },
     "execution_count": 2,
     "metadata": {},
     "output_type": "execute_result"
    }
   ],
   "source": [
    "dr = pd.date_range('1700', periods=100).astype('datetime64[ns]')\n",
    "dr[:5]"
   ]
  },
  {
   "cell_type": "code",
   "execution_count": 3,
   "id": "18cfe78c-3c4c-4576-b419-71d51f9abdf9",
   "metadata": {},
   "outputs": [
    {
     "data": {
      "text/plain": [
       "DatetimeIndex(['1700-01-01', '1700-01-02', '1700-01-03', '1700-01-04',\n",
       "               '1700-01-05'],\n",
       "              dtype='datetime64[s]', freq=None)"
      ]
     },
     "execution_count": 3,
     "metadata": {},
     "output_type": "execute_result"
    }
   ],
   "source": [
    "dr_seconds = dr.astype('datetime64[s]')\n",
    "dr_seconds[:5]"
   ]
  },
  {
   "cell_type": "code",
   "execution_count": 8,
   "id": "284a0679-6563-4388-8467-f966840127b8",
   "metadata": {},
   "outputs": [
    {
     "name": "stdout",
     "output_type": "stream",
     "text": [
      "Pandas OutOfBoundsDateTime Exception Raised\n"
     ]
    }
   ],
   "source": [
    "try:\n",
    "    dr_older = pd.date_range('1500', periods=100).astype('datetime64[ns]')\n",
    "except:\n",
    "    logger.error('Pandas OutOfBoundsDateTime Exception Raised')"
   ]
  },
  {
   "cell_type": "markdown",
   "id": "0e888c9d-d620-4e8c-83c6-9771ea7283eb",
   "metadata": {
    "tags": []
   },
   "source": [
    "### pandas `Series`\n",
    "\n",
    "See above; same result"
   ]
  },
  {
   "cell_type": "code",
   "execution_count": 5,
   "id": "f53c3d3a-b938-4b8e-a32a-0719da80202e",
   "metadata": {},
   "outputs": [
    {
     "data": {
      "text/plain": [
       "(0   1700-01-01\n",
       " dtype: datetime64[s],\n",
       " 0   1700-01-01\n",
       " dtype: datetime64[ns])"
      ]
     },
     "execution_count": 5,
     "metadata": {},
     "output_type": "execute_result"
    }
   ],
   "source": [
    "seconds = pd.Series(['1700-01-01'], dtype='datetime64[s]')\n",
    "nanoseconds = pd.Series(['1700-01-01'], dtype='datetime64[ns]')\n",
    "\n",
    "seconds, nanoseconds"
   ]
  },
  {
   "cell_type": "code",
   "execution_count": 7,
   "id": "9e037ead-f108-47e0-8508-40d71848d84a",
   "metadata": {},
   "outputs": [
    {
     "name": "stdout",
     "output_type": "stream",
     "text": [
      "Pandas DateTime OutOfBounds Exception Raised\n"
     ]
    }
   ],
   "source": [
    "try:\n",
    "    seconds = pd.Series(['1500-01-01'], dtype='datetime64[s]')\n",
    "except:\n",
    "    logger.error('Pandas DateTime OutOfBounds Exception Raised')"
   ]
  },
  {
   "cell_type": "markdown",
   "id": "5f7073b1-c00e-4fd0-9826-de67258508bb",
   "metadata": {},
   "source": [
    "## pandas powered by NumPy\n",
    "\n",
    "The problems that we ran into above can be surpressed by using numpy as the input array. We will explore a set of examples in this section:\n",
    "\n",
    "1) A pandas.Series whose dates ranges exist outside of the currently known limits for 9 digit precision (1700-01-01 to 2262-04-11)\n",
    "2) A pandas.DataFrame whose index is the aforementioned series with 2 columns:\n",
    "    * TEMP - Randomly generated floating point\n",
    "    * HUMIDITY - Randomly generated float\n",
    "\n",
    "We will then explore doing the same things millions of years in the past and in the future. \n"
   ]
  },
  {
   "cell_type": "code",
   "execution_count": 45,
   "id": "3ffa7358-9982-4b6c-9609-cb133c7b42fa",
   "metadata": {},
   "outputs": [],
   "source": [
    "start_year = 1300\n",
    "stop_year = 2300\n",
    "\n",
    "arr = np.arange(np.datetime64(f\"{start_year}-01-01\"), np.datetime64(f\"{stop_year}-01-01\"), np.timedelta64(10, \"Y\"), dtype='datetime64[Y]').astype(\"M8[s]\")\n",
    "series = pd.Series(arr)"
   ]
  },
  {
   "cell_type": "markdown",
   "id": "f37adf8e-7343-401a-bf19-f3229d09fb10",
   "metadata": {},
   "source": [
    "The above line generates a set of datetimes outside the accepted range since we are using second precision. This is an example that works as such:\n",
    "* Generate dates using arange \n",
    "* Inside the arange, use datetime as Years to skip ns time non-linearity \n",
    "* Cast the units to seconds using astype\n",
    "* Generate a series from the resulting array\n",
    "\n",
    "Note that in this case, that pandas is able to represnt dates well out of its range."
   ]
  },
  {
   "cell_type": "code",
   "execution_count": 51,
   "id": "d00a0d2a-fc3a-4f98-b6b6-e9037ae4094d",
   "metadata": {},
   "outputs": [
    {
     "ename": "TypeError",
     "evalue": "unsupported Type RangeIndex",
     "output_type": "error",
     "traceback": [
      "\u001b[0;31m---------------------------------------------------------------------------\u001b[0m",
      "\u001b[0;31mTypeError\u001b[0m                                 Traceback (most recent call last)",
      "Cell \u001b[0;32mIn [51], line 1\u001b[0m\n\u001b[0;32m----> 1\u001b[0m \u001b[43mseries\u001b[49m\u001b[38;5;241;43m.\u001b[39;49m\u001b[43mto_period\u001b[49m\u001b[43m(\u001b[49m\u001b[43mfreq\u001b[49m\u001b[38;5;241;43m=\u001b[39;49m\u001b[38;5;124;43m'\u001b[39;49m\u001b[38;5;124;43mM\u001b[39;49m\u001b[38;5;124;43m'\u001b[39;49m\u001b[43m)\u001b[49m\n",
      "File \u001b[0;32m~/Workspace/micromamba/envs/paleopandas/lib/python3.10/site-packages/pandas/core/series.py:5662\u001b[0m, in \u001b[0;36mSeries.to_period\u001b[0;34m(self, freq, copy)\u001b[0m\n\u001b[1;32m   5659\u001b[0m     new_values \u001b[38;5;241m=\u001b[39m new_values\u001b[38;5;241m.\u001b[39mcopy()\n\u001b[1;32m   5661\u001b[0m \u001b[38;5;28;01mif\u001b[39;00m \u001b[38;5;129;01mnot\u001b[39;00m \u001b[38;5;28misinstance\u001b[39m(\u001b[38;5;28mself\u001b[39m\u001b[38;5;241m.\u001b[39mindex, DatetimeIndex):\n\u001b[0;32m-> 5662\u001b[0m     \u001b[38;5;28;01mraise\u001b[39;00m \u001b[38;5;167;01mTypeError\u001b[39;00m(\u001b[38;5;124mf\u001b[39m\u001b[38;5;124m\"\u001b[39m\u001b[38;5;124munsupported Type \u001b[39m\u001b[38;5;132;01m{\u001b[39;00m\u001b[38;5;28mtype\u001b[39m(\u001b[38;5;28mself\u001b[39m\u001b[38;5;241m.\u001b[39mindex)\u001b[38;5;241m.\u001b[39m\u001b[38;5;18m__name__\u001b[39m\u001b[38;5;132;01m}\u001b[39;00m\u001b[38;5;124m\"\u001b[39m)\n\u001b[1;32m   5663\u001b[0m new_index \u001b[38;5;241m=\u001b[39m \u001b[38;5;28mself\u001b[39m\u001b[38;5;241m.\u001b[39mindex\u001b[38;5;241m.\u001b[39mto_period(freq\u001b[38;5;241m=\u001b[39mfreq)\n\u001b[1;32m   5664\u001b[0m \u001b[38;5;28;01mreturn\u001b[39;00m \u001b[38;5;28mself\u001b[39m\u001b[38;5;241m.\u001b[39m_constructor(new_values, index\u001b[38;5;241m=\u001b[39mnew_index)\u001b[38;5;241m.\u001b[39m__finalize__(\n\u001b[1;32m   5665\u001b[0m     \u001b[38;5;28mself\u001b[39m, method\u001b[38;5;241m=\u001b[39m\u001b[38;5;124m\"\u001b[39m\u001b[38;5;124mto_period\u001b[39m\u001b[38;5;124m\"\u001b[39m\n\u001b[1;32m   5666\u001b[0m )\n",
      "\u001b[0;31mTypeError\u001b[0m: unsupported Type RangeIndex"
     ]
    }
   ],
   "source": [
    "series.to_period(freq='M')"
   ]
  },
  {
   "cell_type": "markdown",
   "id": "eb3f4f0b-c575-4ff1-8d62-c53d5aff9491",
   "metadata": {},
   "source": [
    "Basic resampling of the periods do not work on pandas series objects. What if we set it to datetime index?"
   ]
  },
  {
   "cell_type": "code",
   "execution_count": null,
   "id": "e5d953b5-0fea-4f93-9ae2-3e7a7b87863c",
   "metadata": {},
   "outputs": [],
   "source": []
  }
 ],
 "metadata": {
  "kernelspec": {
   "display_name": "Python 3 (ipykernel)",
   "language": "python",
   "name": "python3"
  },
  "language_info": {
   "codemirror_mode": {
    "name": "ipython",
    "version": 3
   },
   "file_extension": ".py",
   "mimetype": "text/x-python",
   "name": "python",
   "nbconvert_exporter": "python",
   "pygments_lexer": "ipython3",
   "version": "3.10.8"
  }
 },
 "nbformat": 4,
 "nbformat_minor": 5
}
