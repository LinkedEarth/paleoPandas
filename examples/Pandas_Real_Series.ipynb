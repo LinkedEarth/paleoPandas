{
 "cells": [
  {
   "cell_type": "markdown",
   "id": "9ea53897-dbee-4dca-87a5-9bdcc34c98db",
   "metadata": {},
   "source": [
    "This notebook explores the remote database and using native pandas to represent time."
   ]
  },
  {
   "cell_type": "code",
   "execution_count": 2,
   "id": "1e7cb8fc-5c7d-4d43-99f0-e6d38f7abbd3",
   "metadata": {},
   "outputs": [],
   "source": [
    "import json\n",
    "import requests\n",
    "import pandas as pd\n",
    "import numpy as np\n",
    "import io"
   ]
  },
  {
   "cell_type": "markdown",
   "id": "4b555551-bb1a-498b-9a5b-a42dc2d97379",
   "metadata": {},
   "source": [
    "## Querying for retrograde data\n",
    "\n",
    "This query return information about age. Let's first use 'years BP' or 'BP' to look for data"
   ]
  },
  {
   "cell_type": "code",
   "execution_count": 3,
   "id": "7d2602dc-5c09-4b05-9ae9-9bc9acee8ff6",
   "metadata": {},
   "outputs": [
    {
     "name": "stderr",
     "output_type": "stream",
     "text": [
      "/var/folders/xj/p7h9764x7cx0by8547l04rrr0000gn/T/ipykernel_13516/2709622338.py:31: DeprecationWarning: string or file could not be read to its end due to unmatched data; this will raise a ValueError in the future.\n",
      "  df['val']=df['val'].apply(lambda row : np.fromstring(row.strip(\"[]\"), sep=','))\n"
     ]
    },
    {
     "data": {
      "text/html": [
       "<div>\n",
       "<style scoped>\n",
       "    .dataframe tbody tr th:only-of-type {\n",
       "        vertical-align: middle;\n",
       "    }\n",
       "\n",
       "    .dataframe tbody tr th {\n",
       "        vertical-align: top;\n",
       "    }\n",
       "\n",
       "    .dataframe thead th {\n",
       "        text-align: right;\n",
       "    }\n",
       "</style>\n",
       "<table border=\"1\" class=\"dataframe\">\n",
       "  <thead>\n",
       "    <tr style=\"text-align: right;\">\n",
       "      <th></th>\n",
       "      <th>val</th>\n",
       "      <th>timeval</th>\n",
       "      <th>varunits</th>\n",
       "      <th>timeunits</th>\n",
       "      <th>dsname</th>\n",
       "      <th>varname</th>\n",
       "      <th>timevarname</th>\n",
       "    </tr>\n",
       "  </thead>\n",
       "  <tbody>\n",
       "    <tr>\n",
       "      <th>0</th>\n",
       "      <td>[20.4, 20.4, 20.7, 20.6, 20.5, 20.2, 19.3, 19....</td>\n",
       "      <td>[0.0, 13.0, 26.0, 39.0, 52.0, 64.0, 77.0, 90.0...</td>\n",
       "      <td>degC</td>\n",
       "      <td>BP</td>\n",
       "      <td>NAm-DarkLake.Gajewski.1988</td>\n",
       "      <td>temperature</td>\n",
       "      <td>age</td>\n",
       "    </tr>\n",
       "    <tr>\n",
       "      <th>1</th>\n",
       "      <td>[18.4, 18.4, 19.1, 18.4, 18.9, 18.7, 18.6, 19....</td>\n",
       "      <td>[-10.0, 24.0, 58.0, 93.0, 127.0, 191.0, 248.0,...</td>\n",
       "      <td>degC</td>\n",
       "      <td>BP</td>\n",
       "      <td>NAm-ClearPond.Gajewski.1988</td>\n",
       "      <td>temperature</td>\n",
       "      <td>age</td>\n",
       "    </tr>\n",
       "    <tr>\n",
       "      <th>2</th>\n",
       "      <td>[]</td>\n",
       "      <td>[-44.0, -34.0, -13.0, 7.0, 18.0, 34.0, 45.0, 5...</td>\n",
       "      <td>NaN</td>\n",
       "      <td>BP</td>\n",
       "      <td>Eur-CentralandEasternPyrenees.Pla.2004</td>\n",
       "      <td>sampleID</td>\n",
       "      <td>age</td>\n",
       "    </tr>\n",
       "    <tr>\n",
       "      <th>3</th>\n",
       "      <td>[0.0, 0.09114, -0.19458, 0.07387, -0.42006, -0...</td>\n",
       "      <td>[-44.0, -34.0, -13.0, 7.0, 18.0, 34.0, 45.0, 5...</td>\n",
       "      <td>degC</td>\n",
       "      <td>BP</td>\n",
       "      <td>Eur-CentralandEasternPyrenees.Pla.2004</td>\n",
       "      <td>temperature</td>\n",
       "      <td>age</td>\n",
       "    </tr>\n",
       "    <tr>\n",
       "      <th>4</th>\n",
       "      <td>[0.13984, 0.15345, 0.16085, 0.13493, 0.14066, ...</td>\n",
       "      <td>[-44.0, -34.0, -13.0, 7.0, 18.0, 34.0, 45.0, 5...</td>\n",
       "      <td>degC</td>\n",
       "      <td>BP</td>\n",
       "      <td>Eur-CentralandEasternPyrenees.Pla.2004</td>\n",
       "      <td>uncertainty_temperature</td>\n",
       "      <td>age</td>\n",
       "    </tr>\n",
       "  </tbody>\n",
       "</table>\n",
       "</div>"
      ],
      "text/plain": [
       "                                                 val  \\\n",
       "0  [20.4, 20.4, 20.7, 20.6, 20.5, 20.2, 19.3, 19....   \n",
       "1  [18.4, 18.4, 19.1, 18.4, 18.9, 18.7, 18.6, 19....   \n",
       "2                                                 []   \n",
       "3  [0.0, 0.09114, -0.19458, 0.07387, -0.42006, -0...   \n",
       "4  [0.13984, 0.15345, 0.16085, 0.13493, 0.14066, ...   \n",
       "\n",
       "                                             timeval varunits timeunits  \\\n",
       "0  [0.0, 13.0, 26.0, 39.0, 52.0, 64.0, 77.0, 90.0...     degC        BP   \n",
       "1  [-10.0, 24.0, 58.0, 93.0, 127.0, 191.0, 248.0,...     degC        BP   \n",
       "2  [-44.0, -34.0, -13.0, 7.0, 18.0, 34.0, 45.0, 5...      NaN        BP   \n",
       "3  [-44.0, -34.0, -13.0, 7.0, 18.0, 34.0, 45.0, 5...     degC        BP   \n",
       "4  [-44.0, -34.0, -13.0, 7.0, 18.0, 34.0, 45.0, 5...     degC        BP   \n",
       "\n",
       "                                   dsname                  varname timevarname  \n",
       "0              NAm-DarkLake.Gajewski.1988              temperature         age  \n",
       "1             NAm-ClearPond.Gajewski.1988              temperature         age  \n",
       "2  Eur-CentralandEasternPyrenees.Pla.2004                 sampleID         age  \n",
       "3  Eur-CentralandEasternPyrenees.Pla.2004              temperature         age  \n",
       "4  Eur-CentralandEasternPyrenees.Pla.2004  uncertainty_temperature         age  "
      ]
     },
     "execution_count": 3,
     "metadata": {},
     "output_type": "execute_result"
    }
   ],
   "source": [
    "url = 'https://linkedearth.graphdb.mint.isi.edu/repositories/LiPDVerse'\n",
    "\n",
    "query = \"\"\"\n",
    "PREFIX le: <http://linked.earth/ontology#>\n",
    "select ?val ?timeval ?varunits ?timeunits ?dsname ?varname ?timevarname where { \n",
    "    ?ds le:name ?dsname .\n",
    "    ?ds le:includesPaleoData ?data .   \n",
    "    ?data le:foundInMeasurementTable ?table .\n",
    "    ?table le:includesVariable ?var .\n",
    "    ?var le:name ?varname .\n",
    "    FILTER (?varname != \"age\")\n",
    "    FILTER (?varname != \"year\")\n",
    "    ?var le:hasVariableID ?varID .\n",
    "    ?var le:hasValues ?val .\n",
    "        OPTIONAL{?var le:hasUnits ?varunits .}\n",
    "    ?table le:includesVariable ?timevar .\n",
    "    ?timevar le:name ?timevarname .\n",
    "        VALUES ?timevarname {\"age\"} .\n",
    "    ?timevar le:hasValues ?timeval .\n",
    "    ?timevar le:hasUnits ?timeunits .\n",
    "        VALUES ?timeunits {\"yr BP\" \"BP\"}\n",
    "}\n",
    "LIMIT 100\n",
    "\"\"\"\n",
    "response = requests.post(url, data = {'query': query})\n",
    "\n",
    "data = io.StringIO(response.text)\n",
    "df = pd.read_csv(data, sep=\",\")\n",
    "\n",
    "# Make list from the values string\n",
    "df['val']=df['val'].apply(lambda row : np.fromstring(row.strip(\"[]\"), sep=','))\n",
    "df['timeval']=df['timeval'].apply(lambda row : np.fromstring(row.strip(\"[]\"), sep=','))\n",
    "\n",
    "df.head()"
   ]
  },
  {
   "cell_type": "code",
   "execution_count": 7,
   "id": "6a50be1d-a7e0-4b8f-a0e9-d0315897c7f1",
   "metadata": {},
   "outputs": [
    {
     "data": {
      "text/plain": [
       "array(['1970', '1983', '1996', '2009', '2022', '2034', '2047', '2060',\n",
       "       '2073', '2086', '2092', '2099', '2105', '2111', '2128', '2145',\n",
       "       '2159', '2171', '2184', '2193', '2211', '2265', '2315', '2359',\n",
       "       '2403', '2440', '2482', '2515', '2546', '2575', '2602', '2630',\n",
       "       '2657', '2688', '2720', '2756', '2794', '2834', '2876'],\n",
       "      dtype='datetime64[Y]')"
      ]
     },
     "execution_count": 7,
     "metadata": {},
     "output_type": "execute_result"
    }
   ],
   "source": [
    "arr2 = np.array(df['timeval'].iloc[0], dtype=\"M8[s]\").view(\"M8[Y]\")\n",
    "\n",
    "arr2"
   ]
  },
  {
   "cell_type": "code",
   "execution_count": null,
   "id": "2d6d18d0-587a-4594-bb7b-a9ba1715156a",
   "metadata": {},
   "outputs": [],
   "source": []
  }
 ],
 "metadata": {
  "kernelspec": {
   "display_name": "Python 3 (ipykernel)",
   "language": "python",
   "name": "python3"
  },
  "language_info": {
   "codemirror_mode": {
    "name": "ipython",
    "version": 3
   },
   "file_extension": ".py",
   "mimetype": "text/x-python",
   "name": "python",
   "nbconvert_exporter": "python",
   "pygments_lexer": "ipython3",
   "version": "3.10.8"
  }
 },
 "nbformat": 4,
 "nbformat_minor": 5
}
