{
 "cells": [
  {
   "cell_type": "markdown",
   "metadata": {},
   "source": [
    "<img src='https://github.com/LinkedEarth/Logos/raw/master/PYLEOCLIM_logo_HORZ-01.png' width=\"800\">\n",
    "\n",
    "This notebook investigates using Pandas native time (numpy datetime) for Pyleoclim"
   ]
  },
  {
   "cell_type": "code",
   "execution_count": null,
   "metadata": {},
   "outputs": [],
   "source": [
    "import pandas as pd\n",
    "import numpy as np\n",
    "from typing import OrderedDict"
   ]
  },
  {
   "cell_type": "markdown",
   "metadata": {},
   "source": [
    "Import the data including its non-standard time axis into a dataframe for exploration."
   ]
  },
  {
   "cell_type": "code",
   "execution_count": null,
   "metadata": {},
   "outputs": [],
   "source": [
    "df = pd.read_csv('https://raw.githubusercontent.com/khider/paleoPandas/main/ODP846.csv', header=0)\n",
    "df.head()"
   ]
  },
  {
   "cell_type": "markdown",
   "metadata": {},
   "source": [
    "For this problem, the units are in kyr BP. Need to translate to years."
   ]
  },
  {
   "cell_type": "code",
   "execution_count": null,
   "metadata": {},
   "outputs": [],
   "source": [
    "df['Age']*=1000\n",
    "df.head()"
   ]
  },
  {
   "cell_type": "markdown",
   "metadata": {},
   "source": [
    "It is not uncommon to have duplicated values in time (this usually arises when duplicate measurements are made on the same sample and the authors report both measurements), so let's clean that up before going any further."
   ]
  },
  {
   "cell_type": "code",
   "execution_count": null,
   "metadata": {},
   "outputs": [],
   "source": [
    "def reduce_duplicated_timestamps(ys, ts, verbose=False):\n",
    "    ''' Reduce duplicated timestamps in a timeseries by averaging the values\n",
    "    Parameters\n",
    "    ----------\n",
    "    ys : array\n",
    "        Dependent variable\n",
    "    ts : array\n",
    "        Independent variable\n",
    "    verbose : bool\n",
    "        If True, will print a warning message\n",
    "    Returns\n",
    "    -------\n",
    "    ys : array\n",
    "        Dependent variable\n",
    "    ts : array\n",
    "        Independent variable, with duplicated timestamps reduced by averaging the values\n",
    "    '''\n",
    "    ys = np.asarray(ys, dtype=np.float)\n",
    "    ts = np.asarray(ts, dtype=np.float)\n",
    "    assert ys.size == ts.size, 'The size of time axis and data value should be equal!'\n",
    "\n",
    "    if len(ts) != len(set(ts)):\n",
    "        value = OrderedDict()\n",
    "        for t, y in zip(ts, ys):\n",
    "            if t not in value:\n",
    "                value[t] = [y]\n",
    "            else:\n",
    "                value[t].append(y)\n",
    "\n",
    "        ts = []\n",
    "        ys = []\n",
    "        for k, v in value.items():\n",
    "            ts.append(k)\n",
    "            ys.append(np.mean(v))\n",
    "\n",
    "        ts = np.array(ts)\n",
    "        ys = np.array(ys)\n",
    "\n",
    "        if verbose:\n",
    "            print('Duplicate timestamps have been combined by averaging values.')\n",
    "    return ys, ts\n",
    "\n",
    "def sort_ts(ys, ts, verbose=False):\n",
    "    ''' Sort ts values in ascending order\n",
    "    Parameters\n",
    "    ----------\n",
    "    ys : array\n",
    "        Dependent variable\n",
    "    ts : array\n",
    "        Independent variable\n",
    "    verbose : bool\n",
    "        If True, will print a warning message\n",
    "    Returns\n",
    "    -------\n",
    "    ys : array\n",
    "        Dependent variable\n",
    "    ts : array\n",
    "        Independent variable, sorted in ascending order\n",
    "    '''\n",
    "    ys = np.asarray(ys, dtype=np.float)\n",
    "    ts = np.asarray(ts, dtype=np.float)\n",
    "    assert ys.size == ts.size, 'time and value arrays must be of equal length'\n",
    "\n",
    "    # sort the time series so that the time axis will be ascending\n",
    "    dt = np.median(np.diff(ts))\n",
    "    if dt < 0:\n",
    "        sort_ind = np.argsort(ts)\n",
    "        ys = ys[sort_ind]\n",
    "        ts = ts[sort_ind]\n",
    "        if verbose:\n",
    "            print('The time axis has been adjusted to be prograde')\n",
    "\n",
    "    return ys, ts\n",
    "\n",
    "#Clean and sort the data\n",
    "d18O_sort, age_sort = sort_ts(df['d18O'],df['Age'])\n",
    "d18O_clean, age_clean = reduce_duplicated_timestamps(d18O_sort,age_sort)\n",
    "# Put it back into a dataframe\n",
    "df2 = pd.DataFrame({'Age':age_clean,'d18O':d18O_clean})\n",
    "df2.head()"
   ]
  },
  {
   "cell_type": "markdown",
   "metadata": {},
   "source": [
    "Explore the time axis:"
   ]
  },
  {
   "cell_type": "code",
   "execution_count": null,
   "metadata": {},
   "outputs": [],
   "source": [
    "print('min value: '+ str(df2['Age'].min()))\n",
    "print('max value: '+str(df2['Age'].max()))\n",
    "print('mean dt value: '+str(df2['Age'].diff().mean()))\n",
    "print('median dt value: '+str(df2['Age'].diff().median()))\n",
    "print('min dt value: '+str(df2['Age'].diff().min()))\n",
    "print('max dt value: '+str(df2['Age'].diff().max()))"
   ]
  },
  {
   "cell_type": "markdown",
   "metadata": {},
   "source": [
    "Let's use the minimum dt to create the time axis. "
   ]
  },
  {
   "cell_type": "code",
   "execution_count": null,
   "metadata": {},
   "outputs": [],
   "source": [
    "dti = np.arange(df2['Age'].min(),df2['Age'].max()+df2['Age'].diff().min(),df2['Age'].diff().min(), dtype='str')\n",
    "ts = np.array(dti,dtype='datetime64[Y]')"
   ]
  }
 ],
 "metadata": {
  "kernelspec": {
   "display_name": "Python 3 (ipykernel)",
   "language": "python",
   "name": "python3"
  },
  "language_info": {
   "codemirror_mode": {
    "name": "ipython",
    "version": 3
   },
   "file_extension": ".py",
   "mimetype": "text/x-python",
   "name": "python",
   "nbconvert_exporter": "python",
   "pygments_lexer": "ipython3",
   "version": "3.10.8"
  }
 },
 "nbformat": 4,
 "nbformat_minor": 4
}
