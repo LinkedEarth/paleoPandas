{
 "cells": [
  {
   "cell_type": "markdown",
   "id": "7e814aa4",
   "metadata": {},
   "source": [
    "This notebook loads a paleoclimate dataset (based on a coral record from [DeLong et al. (2011)](https://www.sciencedirect.com/science/article/pii/S0031018211002501?casa_token=u1x_ZYnm_mIAAAAA:rU7n-8jHh2g5UPgGHs5h1iptBXVa6rfvKFxpOwgMjHgB6g4jUZ9oRppzJz7O5UQHDlc1U3xhYSg)). The first column contains the time information. The rest of the columns contain the actual record and instrumental data. "
   ]
  },
  {
   "cell_type": "code",
   "execution_count": null,
   "id": "b21098c2",
   "metadata": {},
   "outputs": [],
   "source": [
    "!pip install demjson --upgrade #deals with demjson issue with setuputils\n",
    "import pandas as pd # to load the record\n",
    "import matplotlib.pyplot as plt\n",
    "import pyleoclim as pyleo #to work with the record\n",
    "from pathlib import Path"
   ]
  },
  {
   "cell_type": "code",
   "execution_count": null,
   "id": "e714b495-3770-4068-a5f8-0b8ad24a7b50",
   "metadata": {},
   "outputs": [],
   "source": [
    "ROOT_DIR = Path().resolve().parent\n",
    "DATA_DIR = ROOT_DIR.joinpath('data')\n",
    "\n",
    "tortugas_path = DATA_DIR.joinpath('tortugas2011.xls')\n",
    "print(tortugas_path)"
   ]
  },
  {
   "cell_type": "markdown",
   "id": "e0ab176a",
   "metadata": {
    "tags": []
   },
   "source": [
    "## Data loading"
   ]
  },
  {
   "cell_type": "markdown",
   "id": "f8d773fb",
   "metadata": {},
   "source": [
    "Read data into a Pandas DataFrame:"
   ]
  },
  {
   "cell_type": "code",
   "execution_count": null,
   "id": "900dc079",
   "metadata": {},
   "outputs": [],
   "source": [
    "df = pd.read_excel(tortugas_path, sheet_name=1,header=[0,2])\n",
    "df.head()"
   ]
  },
  {
   "cell_type": "markdown",
   "id": "f8f3a96c",
   "metadata": {},
   "source": [
    "The following cell will create 5 `pyleoclim.Series` objects:\n",
    "* One with Siderastrea Sidera Sr/Ca for the first coral head (column 1, 0-index)\n",
    "* One with Sideratra Sidera Sr/Ca for the second coral head (column 4)\n",
    "* One with Montrastraea Faveolata Sr/Ca (column 7)\n",
    "* One for instrumental data (DRTO, column 10)\n",
    "* One for instrumental data (Sand Key SST, column 12)"
   ]
  },
  {
   "cell_type": "code",
   "execution_count": null,
   "id": "b4a6713d",
   "metadata": {},
   "outputs": [],
   "source": [
    "ts_ss_1 = pyleo.Series(time=df.iloc[:,0], value=df.iloc[:,1],time_unit='yr CE',value_unit='mmol/mol',\n",
    "                       time_name='Time', value_name='S. sidera Sr/Ca',label = 'S. sidera head1')\n",
    "ts_ss_2 = pyleo.Series(time=df.iloc[:,0], value=df.iloc[:,4],time_unit='yr CE',value_unit='mmol/mol',\n",
    "                       time_name='Time', value_name='S. sidera Sr/Ca',label = 'S. sidera head2')\n",
    "ts_mf = pyleo.Series(time=df.iloc[:,0], value=df.iloc[:,7],time_unit='yr CE',value_unit='mmol/mol',\n",
    "                       time_name='Time', value_name='M. faveolata Sr/Ca',label = 'M. faveolata')\n",
    "ts_drto = pyleo.Series(time=df.iloc[:,0], value=df.iloc[:,10],time_unit='yr CE',value_unit='$^\\circ$C',\n",
    "                       time_name='Time', value_name='Sea Surface Temperature',label = 'DRTO')\n",
    "ts_sk = pyleo.Series(time=df.iloc[:,0], value=df.iloc[:,12],time_unit='yr CE',value_unit='$^\\circ$C',\n",
    "                       time_name='Time', value_name='Sea Surface Temperature',label = 'Sand Key')"
   ]
  },
  {
   "cell_type": "markdown",
   "id": "a3aa3429",
   "metadata": {},
   "source": [
    "## Plotting\n",
    "\n",
    "This is how I would plot the three coral records using Matplotlib:"
   ]
  },
  {
   "cell_type": "code",
   "execution_count": null,
   "id": "4635f217",
   "metadata": {},
   "outputs": [],
   "source": [
    "fig,ax=plt.subplots(figsize=(20,4))\n",
    "plt.plot(df.iloc[:,0], df.iloc[:,1], label = \"Siderastrea sidera\")\n",
    "plt.plot(df.iloc[:,0], df.iloc[:,4], label = \"Siderastrea sidera\")\n",
    "plt.plot(df.iloc[:,0], df.iloc[:,7], label = \"Montastraea faveolata\")\n",
    "plt.xlabel('Time')\n",
    "plt.ylabel('Sr/Ca (mmol/mol)')\n",
    "plt.legend()\n",
    "plt.show()"
   ]
  },
  {
   "cell_type": "markdown",
   "id": "96acf956",
   "metadata": {},
   "source": [
    "Using Pyleoclim:"
   ]
  },
  {
   "cell_type": "code",
   "execution_count": null,
   "id": "802f4c6e",
   "metadata": {},
   "outputs": [],
   "source": [
    "fig,ax = ts_ss_1.plot()\n",
    "ts_ss_2.plot(ax=ax)\n",
    "ts_mf.plot(ax=ax)\n",
    "ax.set_ylabel('Sr/Ca (mmol/mol)')"
   ]
  },
  {
   "cell_type": "markdown",
   "id": "ee2c5436",
   "metadata": {},
   "source": [
    "Similarly for the instrumental data, the Matplotlib version is:"
   ]
  },
  {
   "cell_type": "code",
   "execution_count": null,
   "id": "de08f64f",
   "metadata": {},
   "outputs": [],
   "source": [
    "fig,ax=plt.subplots(figsize=(20,4))\n",
    "plt.plot(df.iloc[:,0], df.iloc[:,10], label = \"DRTO\")\n",
    "plt.plot(df.iloc[:,0], df.iloc[:,12], label = \"Sand Key\")\n",
    "plt.xlabel('Time')\n",
    "plt.ylabel('SST')\n",
    "plt.legend()\n",
    "plt.show()"
   ]
  },
  {
   "cell_type": "markdown",
   "id": "51e1be32",
   "metadata": {},
   "source": [
    "Pyleoclim version"
   ]
  },
  {
   "cell_type": "code",
   "execution_count": null,
   "id": "7f6aa439",
   "metadata": {},
   "outputs": [],
   "source": [
    "fig,ax = ts_drto.plot()\n",
    "ts_sk.plot(ax=ax)"
   ]
  },
  {
   "cell_type": "markdown",
   "id": "71020b5c",
   "metadata": {},
   "source": [
    "## Analysis\n",
    "\n",
    "Below are a few common analysis we can do easily with Pyleoclim. I'm using the first coral record as an example.\n",
    "\n",
    "### Slicing"
   ]
  },
  {
   "cell_type": "code",
   "execution_count": null,
   "id": "6f00164e",
   "metadata": {},
   "outputs": [],
   "source": [
    "ts_slice = ts_ss_1.slice([1995,2002])\n",
    "ts_slice.plot()"
   ]
  },
  {
   "cell_type": "markdown",
   "id": "a0b348fa",
   "metadata": {},
   "source": [
    "## Spectral Analysis\n",
    "\n",
    "First, let's use MultiTaper analysis with an interpolations scheme to get evenly-spaced data and a significance test based on Monte-Carlo AR1"
   ]
  },
  {
   "cell_type": "code",
   "execution_count": null,
   "id": "19620777",
   "metadata": {},
   "outputs": [],
   "source": [
    "psd_MTM = ts_ss_1.interp().standardize().spectral(method='mtm').signif_test(number=200)\n",
    "psd_MTM.plot()"
   ]
  },
  {
   "cell_type": "markdown",
   "id": "2d79d85e",
   "metadata": {},
   "source": [
    "Not surprisingly, it has a pretty strong annual cycle. Let's use another method that doesn't require interpolation"
   ]
  },
  {
   "cell_type": "code",
   "execution_count": null,
   "id": "4ea77e6b",
   "metadata": {},
   "outputs": [],
   "source": [
    "psd_LS = ts_ss_1.standardize().spectral(method='lomb_scargle').signif_test(number=200)\n",
    "psd_LS.plot()"
   ]
  }
 ],
 "metadata": {
  "kernelspec": {
   "display_name": "Python 3 (ipykernel)",
   "language": "python",
   "name": "python3"
  },
  "language_info": {
   "codemirror_mode": {
    "name": "ipython",
    "version": 3
   },
   "file_extension": ".py",
   "mimetype": "text/x-python",
   "name": "python",
   "nbconvert_exporter": "python",
   "pygments_lexer": "ipython3",
   "version": "3.9.13"
  }
 },
 "nbformat": 4,
 "nbformat_minor": 5
}
